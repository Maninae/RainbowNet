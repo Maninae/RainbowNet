{
  "nbformat": 4,
  "nbformat_minor": 0,
  "metadata": {
    "colab": {
      "name": "rainbownet_v2.ipynb",
      "version": "0.3.2",
      "views": {},
      "default_view": {},
      "provenance": [],
      "collapsed_sections": [
        "N0TkcoICEII0",
        "VF6DV0hSBATu"
      ]
    },
    "kernelspec": {
      "display_name": "Python 2",
      "language": "python",
      "name": "python2"
    }
  },
  "cells": [
    {
      "metadata": {
        "id": "q_i8XN-Uy_b5",
        "colab_type": "text"
      },
      "source": [
        "### Sources and inspiration:\n",
        "Emil Wallner blog post and code on Floydhub for image colorization\n",
        "\n",
        "\"Deep Koalarization\": https://github.com/baldassarreFe/deep-koalarization\n",
        "\n",
        "\"Colorful Image Colorization\": https://github.com/richzhang/colorization\n"
      ],
      "cell_type": "markdown"
    },
    {
      "metadata": {
        "id": "N0TkcoICEII0",
        "colab_type": "text"
      },
      "source": [
        "## Setup Cells"
      ],
      "cell_type": "markdown"
    },
    {
      "metadata": {
        "id": "50k1A1DdyEmW",
        "colab_type": "text"
      },
      "source": [
        "### Compatibility: dependencies, Python 2 vs. 3"
      ],
      "cell_type": "markdown"
    },
    {
      "metadata": {
        "id": "-8ZHw3jX6m-g",
        "colab_type": "code",
        "colab": {
          "autoexec": {
            "startup": false,
            "wait_interval": 0
          },
          "output_extras": [
            {
              "item_id": 11
            }
          ],
          "base_uri": "https://localhost:8080/",
          "height": 289
        },
        "outputId": "26b7f390-79be-4ac0-bb46-0ed86cab8271",
        "executionInfo": {
          "status": "ok",
          "timestamp": 1512114722174,
          "user_tz": 480,
          "elapsed": 4966,
          "user": {
            "displayName": "Owen Wang",
            "photoUrl": "//lh4.googleusercontent.com/--IeYa_Fhc0s/AAAAAAAAAAI/AAAAAAAABHo/lk0tUPNi5hY/s50-c-k-no/photo.jpg",
            "userId": "113047125933593071636"
          }
        }
      },
      "source": [
        "import sys\n",
        "\n",
        "# Sometimes, some problems come up because the machine running this notebook\n",
        "# doesn't have Keras, h5py, etc. We install those dependencies here.\n",
        "! pip install keras\n",
        "! pip install h5py\n",
        "\n",
        "# Python 3 peculiarities\n",
        "if sys.version_info[0] == 3:\n",
        "    xrange = range"
      ],
      "cell_type": "code",
      "execution_count": 1,
      "outputs": [
        {
          "output_type": "stream",
          "text": [
            "Collecting keras\n",
            "  Downloading Keras-2.1.1-py2.py3-none-any.whl (302kB)\n",
            "\u001b[K    100% |████████████████████████████████| 307kB 1.8MB/s \n",
            "\u001b[?25hRequirement already satisfied: six>=1.9.0 in /usr/local/lib/python2.7/dist-packages (from keras)\n",
            "Requirement already satisfied: numpy>=1.9.1 in /usr/local/lib/python2.7/dist-packages (from keras)\n",
            "Requirement already satisfied: pyyaml in /usr/local/lib/python2.7/dist-packages (from keras)\n",
            "Requirement already satisfied: scipy>=0.14 in /usr/local/lib/python2.7/dist-packages (from keras)\n",
            "Installing collected packages: keras\n",
            "Successfully installed keras-2.1.1\n",
            "Collecting h5py\n",
            "  Downloading h5py-2.7.1-cp27-cp27mu-manylinux1_x86_64.whl (4.8MB)\n",
            "\u001b[K    100% |████████████████████████████████| 4.8MB 228kB/s \n",
            "\u001b[?25hRequirement already satisfied: numpy>=1.7 in /usr/local/lib/python2.7/dist-packages (from h5py)\n",
            "Requirement already satisfied: six in /usr/local/lib/python2.7/dist-packages (from h5py)\n",
            "Installing collected packages: h5py\n",
            "Successfully installed h5py-2.7.1\n"
          ],
          "name": "stdout"
        }
      ]
    },
    {
      "metadata": {
        "id": "2E9s0UNnIZc8",
        "colab_type": "text"
      },
      "source": [
        "### Janitorial work\n",
        "Cleaning up directories so we can start anew. Uncomment and run this only if you know you have data in these directories from a previous run, etc. that you want to remove and start anew."
      ],
      "cell_type": "markdown"
    },
    {
      "metadata": {
        "id": "5hTe35ToN7tF",
        "colab_type": "code",
        "colab": {
          "autoexec": {
            "startup": false,
            "wait_interval": 0
          },
          "output_extras": [
            {
              "item_id": 3
            }
          ],
          "base_uri": "https://localhost:8080/",
          "height": 204
        },
        "outputId": "3fd4d65d-ebb7-4cb6-abee-c8875b7f5edb",
        "executionInfo": {
          "status": "ok",
          "timestamp": 1512114738987,
          "user_tz": 480,
          "elapsed": 1886,
          "user": {
            "displayName": "Owen Wang",
            "photoUrl": "//lh4.googleusercontent.com/--IeYa_Fhc0s/AAAAAAAAAAI/AAAAAAAABHo/lk0tUPNi5hY/s50-c-k-no/photo.jpg",
            "userId": "113047125933593071636"
          }
        }
      },
      "source": [
        "\n",
        "# Look at the environment.\n",
        "print(\"Current directory:\\n\")\n",
        "! ls\n",
        "print(\"\\n=============\\nUp one level:\\n\")\n",
        "! ls ..\n",
        "\n",
        "remove = False\n",
        "if remove:\n",
        "  ! rm -rf gif_train\n",
        "  ! rm -rf metadata\n",
        "  ! rm -rf model_params\n",
        "  ! rm -rf ../data\n",
        "  ! rm -rf ../results\n",
        "  ! rm -rf tmp\n",
        "\n",
        "  ! ls\n",
        "  ! ls ..\n"
      ],
      "cell_type": "code",
      "execution_count": 2,
      "outputs": [
        {
          "output_type": "stream",
          "text": [
            "Current directory:\n",
            "\n",
            "datalab\n",
            "\n",
            "=============\n",
            "Up one level:\n",
            "\n",
            "bin\t dev\t\t\t      lib    node_modules      root  srv    usr\n",
            "boot\t etc\t\t\t      lib64  opt\t       run   sys    var\n",
            "content  google-colab-0.0.1a1.tar.gz  media  proc\t       sbin  tmp\n",
            "datalab  home\t\t\t      mnt    requirements.txt  srcs  tools\n"
          ],
          "name": "stdout"
        }
      ]
    },
    {
      "metadata": {
        "id": "9JJgWBNAyc9x",
        "colab_type": "text"
      },
      "source": [
        "### Paths used in the model\n",
        "Paths that we need are listed here."
      ],
      "cell_type": "markdown"
    },
    {
      "metadata": {
        "id": "eBcisdtLBovS",
        "colab_type": "code",
        "colab": {
          "autoexec": {
            "startup": false,
            "wait_interval": 0
          },
          "output_extras": [
            {
              "item_id": 1
            }
          ],
          "base_uri": "https://localhost:8080/",
          "height": 119
        },
        "outputId": "bc1040ab-75d9-4bc4-be6b-77df6535713c",
        "executionInfo": {
          "status": "ok",
          "timestamp": 1512114749879,
          "user_tz": 480,
          "elapsed": 399,
          "user": {
            "displayName": "Owen Wang",
            "photoUrl": "//lh4.googleusercontent.com/--IeYa_Fhc0s/AAAAAAAAAAI/AAAAAAAABHo/lk0tUPNi5hY/s50-c-k-no/photo.jpg",
            "userId": "113047125933593071636"
          }
        }
      },
      "source": [
        "import os\n",
        "\n",
        "# Paths and utilities\n",
        "# -------------------\n",
        "# Assuming this notebook's directory (<repository root>/model) is root.\n",
        "data_dir = \"../data/\"\n",
        "train_dir = data_dir + \"train/\"\n",
        "test_dir = data_dir + \"test/\"\n",
        "results_dir = \"../results/\"\n",
        "temp_dir = \"tmp/\"\n",
        "gif_train_dir = temp_dir + \"gif_train/\"\n",
        "\n",
        "model_chkpt = \"model_params/\"\n",
        "model_metadata_dir = \"metadata/\"\n",
        "\n",
        "required_directories = [\n",
        "    train_dir,\n",
        "    test_dir,\n",
        "    results_dir,\n",
        "    gif_train_dir,\n",
        "    model_chkpt,\n",
        "    model_metadata_dir\n",
        "]\n",
        "\n",
        "\n",
        "def create_unexisting_directories(dirs):\n",
        "  for path in dirs:\n",
        "    if not os.path.isdir(path):\n",
        "      print(\"Didn't find the path '%s'. Creating it now.\" % path)\n",
        "      # NOTE: os.makedirs() is recursive.\n",
        "      os.makedirs(path)\n",
        "    else:\n",
        "      print(\"%s exists.\" % path)\n",
        "\n",
        "create_unexisting_directories(required_directories)"
      ],
      "cell_type": "code",
      "execution_count": 3,
      "outputs": [
        {
          "output_type": "stream",
          "text": [
            "Didn't find the path '../data/train/'. Creating it now.\n",
            "Didn't find the path '../data/test/'. Creating it now.\n",
            "Didn't find the path '../results/'. Creating it now.\n",
            "Didn't find the path 'tmp/gif_train/'. Creating it now.\n",
            "Didn't find the path 'model_params/'. Creating it now.\n",
            "Didn't find the path 'metadata/'. Creating it now.\n"
          ],
          "name": "stdout"
        }
      ]
    },
    {
      "metadata": {
        "id": "C4vzyr0myXoT",
        "colab_type": "text"
      },
      "source": [
        "### Imports"
      ],
      "cell_type": "markdown"
    },
    {
      "metadata": {
        "id": "ljuCQQRi_0A_",
        "colab_type": "code",
        "colab": {
          "autoexec": {
            "startup": false,
            "wait_interval": 0
          },
          "output_extras": [
            {
              "item_id": 1
            }
          ],
          "base_uri": "https://localhost:8080/",
          "height": 34
        },
        "outputId": "5e4f6b87-d393-48e4-d1f7-5f6df6e2cbb0",
        "executionInfo": {
          "status": "ok",
          "timestamp": 1512114757069,
          "user_tz": 480,
          "elapsed": 2210,
          "user": {
            "displayName": "Owen Wang",
            "photoUrl": "//lh4.googleusercontent.com/--IeYa_Fhc0s/AAAAAAAAAAI/AAAAAAAABHo/lk0tUPNi5hY/s50-c-k-no/photo.jpg",
            "userId": "113047125933593071636"
          }
        }
      },
      "source": [
        "import numpy as np\n",
        "import random\n",
        "import tensorflow as tf\n",
        "\n",
        "from skimage.color import rgb2lab, lab2rgb, rgb2gray, gray2rgb\n",
        "from skimage.transform import resize\n",
        "from skimage.io import imsave\n",
        "\n",
        "import matplotlib\n",
        "# This line was for some of our machines; some edge case\n",
        "# matplotlib.use('TkAgg')\n",
        "import matplotlib.pyplot as plt\n",
        "import matplotlib.patches as patches\n",
        "import pickle\n",
        "\n",
        "import keras\n",
        "import keras.backend as K\n",
        "from keras.activations import softmax\n",
        "from keras.layers.core import RepeatVector\n",
        "# Not sure we need all of these\n",
        "from keras.layers import Conv2D, UpSampling2D, InputLayer, Conv2DTranspose, Input, Reshape, merge, concatenate, Activation, Dense, Dropout, Flatten\n",
        "from keras.layers.normalization import BatchNormalization\n",
        "#from keras.losses import categorical_crossentropy #same as K.categorical_crossentropy\n",
        "from keras.metrics import top_k_categorical_accuracy\n",
        "from keras.models import Model, Sequential\n",
        "from keras.preprocessing.image import array_to_img, img_to_array, load_img\n",
        "# from keras.preprocessing.image import ImageDataGenerator\n",
        "from keras.utils.np_utils import to_categorical\n",
        "\n",
        "from keras.applications.inception_resnet_v2 import InceptionResNetV2\n",
        "from keras.applications.inception_resnet_v2 import preprocess_input"
      ],
      "cell_type": "code",
      "execution_count": 4,
      "outputs": [
        {
          "output_type": "stream",
          "text": [
            "Using TensorFlow backend.\n"
          ],
          "name": "stderr"
        }
      ]
    },
    {
      "metadata": {
        "id": "v0o6DwRgylnt",
        "colab_type": "text"
      },
      "source": [
        "### Pre-defined Constants, Global variables"
      ],
      "cell_type": "markdown"
    },
    {
      "metadata": {
        "id": "BvzYzIMSyqAF",
        "colab_type": "code",
        "colab": {
          "autoexec": {
            "startup": false,
            "wait_interval": 0
          }
        }
      },
      "source": [
        "model_name = \"rainbownet\"\n",
        "\n",
        "# Adjustable constants\n",
        "BATCH_SIZE = 16\n",
        "N_EPOCHS = 1                 # default num epochs\n",
        "GRID_SIZE = 8\n",
        "NUM_TOTAL_BUCKETS = (256//GRID_SIZE)**2\n",
        "\n",
        "NUM_VALID_BUCKETS = 394      # NUM_VALID_BUCKETS will be updated dynamically if inconsistent\n",
        "BUCKET_ID_TO_INDEX = None    # helper dict for AB color discretization\n",
        "BUCKET_INDEX_TO_ID = None    # helper dict for AB color discretization\n"
      ],
      "cell_type": "code",
      "execution_count": 0,
      "outputs": []
    },
    {
      "metadata": {
        "id": "p-1Nz6YWPcpW",
        "colab_type": "text"
      },
      "source": [
        "## Populate our training directory with images\n",
        "Run these cells if you want to download a gif and split into frames for training data.\n",
        "\n",
        "- Downloading files from Google Drive\n",
        "- Splitting GIF's into frames\n",
        "- Output frames as images, into desired directory"
      ],
      "cell_type": "markdown"
    },
    {
      "metadata": {
        "id": "-HKFnv97OszO",
        "colab_type": "code",
        "colab": {
          "autoexec": {
            "startup": false,
            "wait_interval": 0
          }
        }
      },
      "source": [
        "# Getting a file from online\n",
        "# --------------------------\n",
        "# Taken from\n",
        "# \"https://stackoverflow.com/questions/25010369/wget-curl-large-file-from-google-drive\"\n",
        "#\n",
        "# example usage:\n",
        "# download_file_from_google_drive(\"1H5aWTvlodzLA_hwm68BHtJbrvuKYt0hh\", \"test.jpg\")\n",
        "\n",
        "import requests\n",
        "\n",
        "def download_file_from_google_drive(id, destination):\n",
        "    def get_confirm_token(response):\n",
        "        for key, value in response.cookies.items():\n",
        "            if key.startswith('download_warning'):\n",
        "                return value\n",
        "\n",
        "        return None\n",
        "\n",
        "    def save_response_content(response, destination):\n",
        "        CHUNK_SIZE = 32768\n",
        "\n",
        "        with open(destination, \"wb\") as f:\n",
        "            for chunk in response.iter_content(CHUNK_SIZE):\n",
        "                if chunk: # filter out keep-alive new chunks\n",
        "                    f.write(chunk)\n",
        "\n",
        "    URL = \"https://docs.google.com/uc?export=download\"\n",
        "\n",
        "    session = requests.Session()\n",
        "\n",
        "    response = session.get(URL, params = { 'id' : id }, stream = True)\n",
        "    token = get_confirm_token(response)\n",
        "\n",
        "    if token:\n",
        "        params = { 'id' : id, 'confirm' : token }\n",
        "        response = session.get(URL, params = params, stream = True)\n",
        "\n",
        "    save_response_content(response, destination)\n",
        "\n",
        "    "
      ],
      "cell_type": "code",
      "execution_count": 0,
      "outputs": []
    },
    {
      "metadata": {
        "id": "S-INW-ITPvt7",
        "colab_type": "code",
        "colab": {
          "autoexec": {
            "startup": false,
            "wait_interval": 0
          }
        }
      },
      "source": [
        "# Turn our downloaded gif into images\n",
        "# -----------------------------------\n",
        "\n",
        "from PIL import Image\n",
        "import urllib\n",
        "\n",
        "def process_gif_and_save(file_path, save_dir):\n",
        "    try:\n",
        "        image = Image.open(file_path)\n",
        "    except IOError:\n",
        "        print(\"Can't load %s\" % file_path)\n",
        "        sys.exit(1)\n",
        "    palette = image.getpalette()\n",
        "    name = os.path.split(file_path)[-1].split('.')[0]\n",
        "\n",
        "    # Double check to make sure path where we're saving it exists\n",
        "    if not os.path.exists(save_dir):\n",
        "        os.makedirs(save_dir)\n",
        "\n",
        "    try:\n",
        "        i = 0\n",
        "        while True:\n",
        "            image.putpalette(palette)\n",
        "            new_image = Image.new(\"RGB\", image.size)\n",
        "            new_image.paste(image)\n",
        "\n",
        "            # This formats so we have \"003-gif1.jpg\" instead of \"3-gif1.jpg\". Works for <1000 images.\n",
        "            image_id = str(i).rjust(3, \"0\")  \n",
        "            frame_save_path = os.path.join(save_dir, image_id + \"-\" + name + '.jpg')\n",
        "            \n",
        "            new_image.save(frame_save_path)\n",
        "\n",
        "            i += 1\n",
        "            image.seek(image.tell() + 1)\n",
        "\n",
        "    except EOFError:\n",
        "        pass # end of sequence\n",
        "    \n",
        "    print(\"Finished processing gif. Saved to location '%s'\" % file_path)"
      ],
      "cell_type": "code",
      "execution_count": 0,
      "outputs": []
    },
    {
      "metadata": {
        "id": "2uENXKI5QDR4",
        "colab_type": "code",
        "colab": {
          "autoexec": {
            "startup": false,
            "wait_interval": 0
          },
          "output_extras": [
            {
              "item_id": 1
            }
          ],
          "base_uri": "https://localhost:8080/",
          "height": 34
        },
        "outputId": "d42ddc0d-1e98-458a-8f20-a31dd922104d",
        "executionInfo": {
          "status": "ok",
          "timestamp": 1512114819025,
          "user_tz": 480,
          "elapsed": 2062,
          "user": {
            "displayName": "Owen Wang",
            "photoUrl": "//lh4.googleusercontent.com/--IeYa_Fhc0s/AAAAAAAAAAI/AAAAAAAABHo/lk0tUPNi5hY/s50-c-k-no/photo.jpg",
            "userId": "113047125933593071636"
          }
        }
      },
      "source": [
        "\n",
        "# Download a gif of a flying puppy and split it into frames\n",
        "# Run this to populate train_dir with images, as a toy example.\n",
        "# -------------------------------------------------------------\n",
        "\n",
        "SAVE_DIR = train_dir\n",
        "gif_location = gif_train_dir + 'gif1.gif'\n",
        "gdrive_hash = \"1ppGwWuu5J3ecEdwXJbBXzg4FOktbI1Cv\"\n",
        "\n",
        "download_file_from_google_drive(gdrive_hash, gif_location)\n",
        "process_gif_and_save(gif_location, SAVE_DIR)"
      ],
      "cell_type": "code",
      "execution_count": 8,
      "outputs": [
        {
          "output_type": "stream",
          "text": [
            "Finished processing gif. Saved to location 'tmp/gif_train/gif1.gif'\n"
          ],
          "name": "stdout"
        }
      ]
    },
    {
      "metadata": {
        "id": "ItR4wpEEQ4dY",
        "colab_type": "code",
        "colab": {
          "autoexec": {
            "startup": false,
            "wait_interval": 0
          }
        }
      },
      "source": [
        "# Move some of the frames into test_dir so it has some content.\n",
        "# -------------------------------------------------------------\n",
        "\n",
        "! mv ../data/train/000-gif1.jpg ../data/test/000-gif1.jpg"
      ],
      "cell_type": "code",
      "execution_count": 0,
      "outputs": []
    },
    {
      "metadata": {
        "id": "d8K5iE8u4q3E",
        "colab_type": "text"
      },
      "source": [
        "### Let's see what we have so far.\n",
        "\n",
        "We should see some files inside of the training and test data directories now.\n",
        "\n",
        "Run the code below to display them and make sure they were obtained successfully."
      ],
      "cell_type": "markdown"
    },
    {
      "metadata": {
        "id": "udEMfOTz57fD",
        "colab_type": "code",
        "colab": {
          "autoexec": {
            "startup": false,
            "wait_interval": 0
          },
          "output_extras": [
            {
              "item_id": 3
            }
          ],
          "base_uri": "https://localhost:8080/",
          "height": 289
        },
        "outputId": "5ba5afd2-983f-4569-db08-b2855c6c88f8",
        "executionInfo": {
          "status": "ok",
          "timestamp": 1512114824194,
          "user_tz": 480,
          "elapsed": 1041,
          "user": {
            "displayName": "Owen Wang",
            "photoUrl": "//lh4.googleusercontent.com/--IeYa_Fhc0s/AAAAAAAAAAI/AAAAAAAABHo/lk0tUPNi5hY/s50-c-k-no/photo.jpg",
            "userId": "113047125933593071636"
          }
        }
      },
      "source": [
        "# List out the directory contents\n",
        "# -------------------------------\n",
        "\n",
        "print(\"\\nTest dir: \\n---------\")\n",
        "! ls ../data/test\n",
        "\n",
        "print(\"\\nTrain dir: \\n----------\")\n",
        "! ls ../data/train"
      ],
      "cell_type": "code",
      "execution_count": 10,
      "outputs": [
        {
          "output_type": "stream",
          "text": [
            "\n",
            "Test dir: \n",
            "---------\n",
            "000-gif1.jpg\n",
            "\n",
            "Train dir: \n",
            "----------\n",
            "001-gif1.jpg  010-gif1.jpg  019-gif1.jpg  028-gif1.jpg\t037-gif1.jpg\n",
            "002-gif1.jpg  011-gif1.jpg  020-gif1.jpg  029-gif1.jpg\t038-gif1.jpg\n",
            "003-gif1.jpg  012-gif1.jpg  021-gif1.jpg  030-gif1.jpg\t039-gif1.jpg\n",
            "004-gif1.jpg  013-gif1.jpg  022-gif1.jpg  031-gif1.jpg\t040-gif1.jpg\n",
            "005-gif1.jpg  014-gif1.jpg  023-gif1.jpg  032-gif1.jpg\t041-gif1.jpg\n",
            "006-gif1.jpg  015-gif1.jpg  024-gif1.jpg  033-gif1.jpg\t042-gif1.jpg\n",
            "007-gif1.jpg  016-gif1.jpg  025-gif1.jpg  034-gif1.jpg\t043-gif1.jpg\n",
            "008-gif1.jpg  017-gif1.jpg  026-gif1.jpg  035-gif1.jpg\t044-gif1.jpg\n",
            "009-gif1.jpg  018-gif1.jpg  027-gif1.jpg  036-gif1.jpg\n"
          ],
          "name": "stdout"
        }
      ]
    },
    {
      "metadata": {
        "id": "3YXYVy5aT4aF",
        "colab_type": "code",
        "colab": {
          "autoexec": {
            "startup": false,
            "wait_interval": 0
          },
          "output_extras": [
            {
              "item_id": 1
            }
          ],
          "base_uri": "https://localhost:8080/",
          "height": 470
        },
        "outputId": "9ad6413c-a503-46c5-e903-ddea1d39ebf4",
        "executionInfo": {
          "status": "ok",
          "timestamp": 1512114840202,
          "user_tz": 480,
          "elapsed": 469,
          "user": {
            "displayName": "Owen Wang",
            "photoUrl": "//lh4.googleusercontent.com/--IeYa_Fhc0s/AAAAAAAAAAI/AAAAAAAABHo/lk0tUPNi5hY/s50-c-k-no/photo.jpg",
            "userId": "113047125933593071636"
          }
        }
      },
      "source": [
        "# What do the images look like? Let's sample one.\n",
        "# -----------------------------------------------\n",
        "\n",
        "from IPython.display import Image as iPyImage\n",
        "\n",
        "# Change this to see different pictures\n",
        "i = 10\n",
        "\n",
        "image1 = os.listdir(train_dir)[i]\n",
        "iPyImage(train_dir + image1)"
      ],
      "cell_type": "code",
      "execution_count": 13,
      "outputs": [
        {
          "output_type": "execute_result",
          "data": {
            "image/jpeg": "[encoded data removed]",
            "text/plain": [
              "<IPython.core.display.Image object>"
            ]
          },
          "metadata": {
            "tags": []
          },
          "execution_count": 13
        }
      ]
    },
    {
      "metadata": {
        "id": "TjbsQR3aK_cU",
        "colab_type": "text"
      },
      "source": [
        "## Helper Functions\n",
        "Stuff we're using in the other functions below."
      ],
      "cell_type": "markdown"
    },
    {
      "metadata": {
        "id": "9Ha_1ZZqLFXy",
        "colab_type": "code",
        "colab": {
          "autoexec": {
            "startup": false,
            "wait_interval": 0
          }
        }
      },
      "source": [
        "def resize_images(images, shape):\n",
        "  \"\"\" Resizes images to a given shape.\n",
        "      |shape|: a 3-tuple of the dimensions to resize to. \n",
        "               (H, W, 3) usually.\n",
        "  \"\"\"\n",
        "  # Sanity check for dims\n",
        "  assert len(shape) == 3 and shape[2] == 3\n",
        "  \n",
        "  resized = []\n",
        "  for i in images:\n",
        "    im = resize(i, shape, mode='constant')\n",
        "    resized.append(im)\n",
        "  resized = np.array(resized)\n",
        "  return resized"
      ],
      "cell_type": "code",
      "execution_count": 0,
      "outputs": []
    },
    {
      "metadata": {
        "id": "5tkvaMvcfSDl",
        "colab_type": "code",
        "colab": {
          "autoexec": {
            "startup": false,
            "wait_interval": 0
          }
        }
      },
      "source": [
        "# A debugging function.\n",
        "def analyze_images(images):\n",
        "  # 4d images\n",
        "  L = images[:,:,:,0]\n",
        "  A = images[:,:,:,1]\n",
        "  B = images[:,:,:,2]\n",
        "  print(\"stats on channel1: min %s, max %s\" % (np.amin(L), np.amax(L)))\n",
        "  print(\"stats on channel2: min %s, max %s\" % (np.amin(A), np.amax(A)))\n",
        "  print(\"stats on channel3: min %s, max %s\" % (np.amin(B), np.amax(B)))"
      ],
      "cell_type": "code",
      "execution_count": 0,
      "outputs": []
    },
    {
      "metadata": {
        "id": "XGYCzvWPBATO",
        "colab_type": "code",
        "colab": {
          "autoexec": {
            "startup": false,
            "wait_interval": 0
          }
        }
      },
      "source": [
        "def debug(obj, name, plimit=500):\n",
        "    typ = type(obj)\n",
        "    typstr = str(typ)\n",
        "    \n",
        "    # for debugging ndarray shape or length of something\n",
        "    shape = \"(N/A)\"\n",
        "    if typ == type(np.array([0])):\n",
        "      shape = obj.shape\n",
        "    else:\n",
        "      try:\n",
        "        shape = \"len=\" + str(len(obj))\n",
        "      except TypeError:\n",
        "        pass\n",
        "    shapestr = str(shape)\n",
        "\n",
        "    objstr = str(obj)\n",
        "    objout = objstr if len(objstr) < plimit else objstr[:plimit] + \"\\n[... %s output truncated]\" % name\n",
        "    \n",
        "    outputs = [typstr, shapestr, name + \":\\n\", objout]\n",
        "    print \" \".join(outputs)"
      ],
      "cell_type": "code",
      "execution_count": 0,
      "outputs": []
    },
    {
      "metadata": {
        "id": "ISwY0HA1lsh2",
        "colab_type": "text"
      },
      "source": [
        "## Finding our color buckets\n",
        "This is how we discretized the *ab* channels' color space into buckets for our model.\n"
      ],
      "cell_type": "markdown"
    },
    {
      "metadata": {
        "id": "WyvXuOITeoT0",
        "colab_type": "code",
        "colab": {
          "autoexec": {
            "startup": false,
            "wait_interval": 0
          }
        }
      },
      "source": [
        "def get_bucket_id(ab_pixel):\n",
        "    \"\"\" Given an ab coordinate, find the id of the bucket of\n",
        "        that it belongs to.\n",
        "        \n",
        "        |ab_pixel|: np.array of shape (2,).\n",
        "    \"\"\"\n",
        "    a = int(ab_pixel[0])\n",
        "    b = int(ab_pixel[1])\n",
        "    #print(\"We have a,b=%s\" % (str((a,b))))\n",
        "    \n",
        "    bucket_row = (a + 128) // GRID_SIZE\n",
        "    bucket_col = (b + 128) // GRID_SIZE\n",
        "    bucket_id = bucket_row * (256 // GRID_SIZE) + bucket_col\n",
        "    \n",
        "    return bucket_id\n",
        "  \n",
        "def discretize_ab_space():\n",
        "    # initialize a blank array of (# buckets, 2).\n",
        "    space = np.zeros(((256//GRID_SIZE)**2, 2))\n",
        "    \n",
        "    bucket_index = 0\n",
        "    for a in xrange(-128, 128, GRID_SIZE):\n",
        "        for b in xrange(-128, 128, GRID_SIZE):\n",
        "            a_mid = float(a + GRID_SIZE / 2)\n",
        "            b_mid = float(b + GRID_SIZE / 2)\n",
        "            space[bucket_index] = a_mid, b_mid\n",
        "            bucket_index += 1\n",
        "\n",
        "    return space\n",
        "\n",
        "def compute_bucket_maps(bucket2ab_map=None, ab2bucket_map=None):\n",
        "    \n",
        "    # If we have 394 buckets, the bucket at the 177th index could be bucket #210.\n",
        "    # These maps keep track of the index in [0, 394) <-> the bucket id.\n",
        "    global BUCKET_ID_TO_INDEX\n",
        "    global BUCKET_INDEX_TO_ID\n",
        "    \n",
        "    # 1) Get our monte carlo ab color space.\n",
        "    # Note: skimage.color's rgb2lab takes in RGB values normalized to [0,1].\n",
        "    # Step sizes of 3 for R,G,B is granular enough for our purposes,\n",
        "    #   in sampling RGB space.\n",
        "    all_rgb_normed = [[r/255., g/255., b/255.] for r in xrange(0,256) \\\n",
        "                                               for g in xrange(0,256) \\\n",
        "                                               for b in xrange(0,256)]\n",
        "    print(\"compute_bucket_maps(): finished getting all_rgb_normed\")\n",
        "    \n",
        "    NUM_RGB_SAMPLES = len(all_rgb_normed)\n",
        "    all_rgb_normed = np.array(all_rgb_normed)\n",
        "    all_rgb_normed = all_rgb_normed[:, np.newaxis, :]        # (#rgb colors, 1, 3=rgb)\n",
        "    assert all_rgb_normed.shape == (NUM_RGB_SAMPLES, 1, 3) #  new axis because skimage demands it.\n",
        "    ab_colors = rgb2lab(all_rgb_normed)                    # (#rgb colors, 1, 3=lab)\n",
        "    ab_colors = np.squeeze(ab_colors)[:,1:]                # (#rgb colors, 2=ab)\n",
        "    assert ab_colors.shape == (NUM_RGB_SAMPLES, 2)\n",
        "    \n",
        "    # 2) Get our buckets. \n",
        "    # ab_buckets[bucket #] = (a,b) coord for that bucket, even if it isn't a valid RGB.\n",
        "    ab_buckets_centers = discretize_ab_space()             # (#buckets, 2=ab)\n",
        "    assert ab_buckets_centers.shape == (NUM_TOTAL_BUCKETS, 2)\n",
        "    \n",
        "    # 3) Now we calculate the closest bucket for each ab color.\n",
        "    closest = [get_bucket_id(color) for color in ab_colors]\n",
        "    # closest = [np.argmin(np.linalg.norm(ab_buckets_centers - color, axis=1)) for color in ab_colors]\n",
        "    valid_buckets = set(closest)\n",
        "    \n",
        "    # aside: for interpreting the softmax in the rainbowModel later, we need to know which neuron predicts which bucket\n",
        "    BUCKET_ID_TO_INDEX = {bucket_id : i for i, bucket_id in enumerate(list(valid_buckets))}\n",
        "    BUCKET_INDEX_TO_ID = {i : bucket_id for i, bucket_id in enumerate(list(valid_buckets))}\n",
        "    debug(BUCKET_ID_TO_INDEX, \"id to index\", plimit=1000)\n",
        "    debug(BUCKET_INDEX_TO_ID, \"index to id\", plimit=1000)\n",
        "    \n",
        "    # 4) Create the maps.\n",
        "    bucket2ab_map = {bucket : tuple(ab_buckets_centers[bucket]) for bucket in valid_buckets}\n",
        "    # Assert there are no repeats in the map\n",
        "    assert len(bucket2ab_map.values()) == len(set(bucket2ab_map.values()))\n",
        "    ab2bucket_map = {bucket2ab_map[bucket] : bucket for bucket in bucket2ab_map}\n",
        "    assert len(ab2bucket_map.values()) == len(set(ab2bucket_map.values()))\n",
        "    \n",
        "    print (\"There are %d final buckets.\" % len(bucket2ab_map))\n",
        "    print (\"There are %d final colors.\" % len(ab2bucket_map))\n",
        "    \n",
        "    return bucket2ab_map, ab2bucket_map\n",
        "\n",
        "def plot_mapping(bucket2ab_map):\n",
        "    fig = plt.figure()\n",
        "    ax = fig.add_subplot(111, aspect='equal')\n",
        "    for bucket in bucket2ab_map:\n",
        "        a_mid = bucket2ab_map[bucket][0]\n",
        "        a_low = a_mid - GRID_SIZE / 2\n",
        "        b_mid = bucket2ab_map[bucket][1]\n",
        "        b_low = b_mid - GRID_SIZE / 2\n",
        "\n",
        "        lab_pixel = np.array([50., a_mid, b_mid])\n",
        "        lab_pixel = np.reshape(lab_pixel, (1, 1, 3))\n",
        "        rgb = tuple(lab2rgb(lab_pixel)[0][0])\n",
        "\n",
        "        ax.add_patch(\n",
        "            patches.Rectangle(\n",
        "                (b_low, -a_low), \n",
        "                GRID_SIZE, \n",
        "                GRID_SIZE, \n",
        "                facecolor=rgb\n",
        "            )\n",
        "        )\n",
        "\n",
        "    plt.xlim([-128, 128])\n",
        "    plt.ylim([-128, 128])\n",
        "    plt.show()"
      ],
      "cell_type": "code",
      "execution_count": 0,
      "outputs": []
    },
    {
      "metadata": {
        "id": "7AiWqCq7k8YI",
        "colab_type": "code",
        "colab": {
          "autoexec": {
            "startup": false,
            "wait_interval": 0
          }
        }
      },
      "source": [
        "# Run this if you want to remove existing pickles, and recompute the maps.\n",
        "remove = False\n",
        "if remove:\n",
        "  ! rm -f metadata/*.pkl\n",
        "  ! ls metadata"
      ],
      "cell_type": "code",
      "execution_count": 0,
      "outputs": []
    },
    {
      "metadata": {
        "id": "llvS3JwH-8Lo",
        "colab_type": "code",
        "colab": {
          "autoexec": {
            "startup": false,
            "wait_interval": 0
          },
          "output_extras": [
            {
              "item_id": 2
            },
            {
              "item_id": 3
            },
            {
              "item_id": 4
            }
          ],
          "base_uri": "https://localhost:8080/",
          "height": 554
        },
        "outputId": "dead414b-f360-4fb1-8e16-f845d9eb6952",
        "executionInfo": {
          "status": "ok",
          "timestamp": 1512114939141,
          "user_tz": 480,
          "elapsed": 56470,
          "user": {
            "displayName": "Owen Wang",
            "photoUrl": "//lh4.googleusercontent.com/--IeYa_Fhc0s/AAAAAAAAAAI/AAAAAAAABHo/lk0tUPNi5hY/s50-c-k-no/photo.jpg",
            "userId": "113047125933593071636"
          }
        }
      },
      "source": [
        "\"\"\"\n",
        "The script for loading our bucket maps.\n",
        "If there are .pkl's of maps we've stored from a previous computation,\n",
        "    load those.\n",
        "Otherwise, run compute_bucket_maps() to get them, and dump into\n",
        "    pickles for the future.\n",
        "\"\"\"\n",
        "\n",
        "# To open: `map = pickle.load(open(<filename>, 'r'))`\n",
        "BUCKET2AB = model_metadata_dir + 'bucket2ab_map.pkl'\n",
        "AB2BUCKET = model_metadata_dir + 'ab2bucket_map.pkl'\n",
        "\n",
        "bucket2ab_map = None\n",
        "ab2bucket_map = None\n",
        "\n",
        "# No pickles found. Compute the maps.\n",
        "if not os.path.isfile(BUCKET2AB) or not os.path.isfile(AB2BUCKET):\n",
        "  bucket2ab_map, ab2bucket_map = compute_bucket_maps()\n",
        "  \n",
        "  pickle.dump(bucket2ab_map, open(BUCKET2AB, 'wb'))\n",
        "  pickle.dump(ab2bucket_map, open(AB2BUCKET, 'wb'))\n",
        "  \n",
        "# We found the pickles! Load them.\n",
        "else:\n",
        "  print(\"Loading buckets from pickle.\")\n",
        "  bucket2ab_map = pickle.load(open(BUCKET2AB, 'rb'))\n",
        "  ab2bucket_map = pickle.load(open(AB2BUCKET, 'rb'))\n",
        "\n",
        "plot_mapping(bucket2ab_map)\n",
        "# --------------------------\n",
        "\n",
        "print(\"We have in the map %d buckets.\" % len(bucket2ab_map))\n",
        "if NUM_VALID_BUCKETS != len(bucket2ab_map):\n",
        "  print(\"NUM_VALID_BUCKETS=%s does not match the number of buckets we computed.\"\n",
        "         % str(NUM_VALID_BUCKETS))\n",
        "  print(\"Setting NUM_VALID_BUCKETS=%d\" % len(bucket2ab_map))\n",
        "  NUM_VALID_BUCKETS = len(bucket2ab_map)\n",
        "\n",
        "print(\"Buckets loaded successfully!\")\n",
        "\n",
        "# bucket2ab_map: map of bucket # to (a, b)\n",
        "# ab2bucket_map: map of (a, b) to bucket #\n",
        "# use get_bucket(lab_pixel, ab2bucketmap) to get corresponding (a, b)"
      ],
      "cell_type": "code",
      "execution_count": 19,
      "outputs": [
        {
          "output_type": "stream",
          "text": [
            "compute_bucket_maps(): finished getting all_rgb_normed\n",
            "<type 'dict'> len=394 id to index:\n",
            " {183: 0, 184: 1, 185: 2, 186: 3, 212: 4, 213: 5, 214: 6, 215: 7, 216: 8, 217: 9, 218: 10, 242: 11, 243: 12, 244: 13, 245: 14, 246: 15, 247: 16, 248: 17, 249: 18, 250: 19, 272: 20, 273: 21, 274: 22, 275: 23, 276: 24, 277: 25, 278: 26, 279: 27, 280: 28, 281: 29, 282: 30, 302: 31, 303: 32, 304: 33, 305: 34, 306: 35, 307: 36, 308: 37, 309: 38, 310: 39, 311: 40, 312: 41, 313: 42, 314: 43, 315: 44, 333: 45, 334: 46, 335: 47, 336: 48, 337: 49, 338: 50, 339: 51, 340: 52, 341: 53, 342: 54, 343: 55, 344: 56, 345: 57, 346: 58, 347: 59, 364: 60, 365: 61, 366: 62, 367: 63, 368: 64, 369: 65, 370: 66, 371: 67, 372: 68, 373: 69, 374: 70, 375: 71, 376: 72, 377: 73, 378: 74, 379: 75, 395: 76, 396: 77, 397: 78, 398: 79, 399: 80, 400: 81, 401: 82, 402: 83, 403: 84, 404: 85, 405: 86, 406: 87, 407: 88, 408: 89, 409: 90, 410: 91, 411: 92, 426: 93, 427: 94, 428: 95, 429: 96, 430: 97, 431: 98, 432: 99, 433: 100, 434: 101, 435: 102, 436: 103, 437: 104, 438: 105, 439: 106, 440: 107, 441: 108, 442: 109, 443: 110,\n",
            "[... id to index output truncated]\n",
            "<type 'dict'> len=394 index to id:\n",
            " {0: 183, 1: 184, 2: 185, 3: 186, 4: 212, 5: 213, 6: 214, 7: 215, 8: 216, 9: 217, 10: 218, 11: 242, 12: 243, 13: 244, 14: 245, 15: 246, 16: 247, 17: 248, 18: 249, 19: 250, 20: 272, 21: 273, 22: 274, 23: 275, 24: 276, 25: 277, 26: 278, 27: 279, 28: 280, 29: 281, 30: 282, 31: 302, 32: 303, 33: 304, 34: 305, 35: 306, 36: 307, 37: 308, 38: 309, 39: 310, 40: 311, 41: 312, 42: 313, 43: 314, 44: 315, 45: 333, 46: 334, 47: 335, 48: 336, 49: 337, 50: 338, 51: 339, 52: 340, 53: 341, 54: 342, 55: 343, 56: 344, 57: 345, 58: 346, 59: 347, 60: 364, 61: 365, 62: 366, 63: 367, 64: 368, 65: 369, 66: 370, 67: 371, 68: 372, 69: 373, 70: 374, 71: 375, 72: 376, 73: 377, 74: 378, 75: 379, 76: 395, 77: 396, 78: 397, 79: 398, 80: 399, 81: 400, 82: 401, 83: 402, 84: 403, 85: 404, 86: 405, 87: 406, 88: 407, 89: 408, 90: 409, 91: 410, 92: 411, 93: 426, 94: 427, 95: 428, 96: 429, 97: 430, 98: 431, 99: 432, 100: 433, 101: 434, 102: 435, 103: 436, 104: 437, 105: 438, 106: 439, 107: 440, 108: 441, 109: 442, 110: 443,\n",
            "[... index to id output truncated]\n",
            "There are 394 final buckets.\n",
            "There are 394 final colors.\n"
          ],
          "name": "stdout"
        },
        {
          "output_type": "display_data",
          "data": {
            "image/png": "[encoded data removed]",
            "text/plain": [
              "<matplotlib.figure.Figure at 0x7fd89c2e4b50>"
            ]
          },
          "metadata": {
            "tags": []
          }
        },
        {
          "output_type": "stream",
          "text": [
            "We have in the map 394 buckets.\n",
            "Buckets loaded successfully!\n"
          ],
          "name": "stdout"
        }
      ]
    },
    {
      "metadata": {
        "id": "aB6kBi_KBATc",
        "colab_type": "text"
      },
      "source": [
        "### Applying the Bucketing Scheme to Images\n",
        "The following two functions are for turning an *Lab* image(s) into an array of bucket labels, and the converse."
      ],
      "cell_type": "markdown"
    },
    {
      "metadata": {
        "id": "_-1k44vKGtu3",
        "colab_type": "code",
        "colab": {
          "autoexec": {
            "startup": false,
            "wait_interval": 0
          }
        }
      },
      "source": [
        "def discretize(images_ab):\n",
        "  \"\"\" This is a preprocessing step, that will be used in converting \n",
        "      Y (ab image true labels) into buckets, so that we can calculate\n",
        "      a loss in colorization_loss().\n",
        "  \n",
        "      |images_ab|: (m, H, W, 2) array representing ab channels of images.\n",
        "  \n",
        "      :return: (m, H, W) array where each entry is in BUCKET_ID_TO_INDEX.\n",
        "               One of the NUM_VALID_BUCKETS color buckets we found.\n",
        "  \"\"\"\n",
        "  if len(images_ab.shape) == 3:\n",
        "    print(\"discretize(): detected only 3 dims, reshaping to (m=1,:,:,:)\")\n",
        "    images_ab = images_ab[np.newaxis,:,:,:]\n",
        "    \n",
        "  assert BUCKET_ID_TO_INDEX is not None\n",
        "  \n",
        "  m, H, W, _ = images_ab.shape\n",
        "  images_d = np.zeros((m, H, W))\n",
        "\n",
        "  for i in xrange(m):\n",
        "    for h in xrange(H):\n",
        "      for w in xrange(W):\n",
        "        ab_pixel = images_ab[i,h,w]\n",
        "        bucket_id = get_bucket_id(ab_pixel)\n",
        "        images_d[i,h,w] = BUCKET_ID_TO_INDEX[bucket_id] # int in range [0, NVB)\n",
        "  \n",
        "  return images_d\n",
        "\n",
        "# New name!\n",
        "# ---------\n",
        "ab_channels_to_bucket_indices = discretize"
      ],
      "cell_type": "code",
      "execution_count": 0,
      "outputs": []
    },
    {
      "metadata": {
        "id": "0O0TQLjvpKpj",
        "colab_type": "code",
        "colab": {
          "autoexec": {
            "startup": false,
            "wait_interval": 0
          }
        }
      },
      "source": [
        "# This function will be called when we want to demo a predicted image.\n",
        "# It takes an image with pixels labeled with buckets, and transforms it\n",
        "#   into 2 color channels.\n",
        "\n",
        "def inverse_discretize(images_d):\n",
        "  \"\"\" The inverse of the above function. Maps the indicated bucket to\n",
        "      the mean of that bucket.\n",
        "      \n",
        "      |images_d|: an array (m,H,W) with the color bucket *index=logit* \n",
        "                  assigned to each pixel.\n",
        "                  \n",
        "      :return: (m, H, W, 2) array with ab color values.\n",
        "  \"\"\"\n",
        "  if len(images_d.shape) == 2:\n",
        "    print(\"inverse_discretize(): detected only 2 dims, reshaping to (m=1,:,:)\")\n",
        "    images_d = images_d[np.newaxis,:,:]\n",
        "\n",
        "  m, H, W = images_d.shape\n",
        "  images_ab = np.zeros((m, H, W, 2))\n",
        "  \n",
        "  for i in xrange(m):\n",
        "    for h in xrange(H):\n",
        "      for w in xrange(W):\n",
        "        bucket_index = images_d[i,h,w]\n",
        "        bucket_id = BUCKET_INDEX_TO_ID[bucket_index]\n",
        "        images_ab[i,h,w] = bucket2ab_map[bucket_id] # Sets to [a,b]\n",
        "  \n",
        "  return images_ab\n",
        "\n",
        "# New name!\n",
        "# ---------\n",
        "bucket_indices_to_ab_channels = inverse_discretize"
      ],
      "cell_type": "code",
      "execution_count": 0,
      "outputs": []
    },
    {
      "metadata": {
        "id": "MfgjGUVkkqEx",
        "colab_type": "text"
      },
      "source": [
        "## **The Inception ResNet Fusion**\n",
        "\n",
        "We're going to be using Google's Inception ResNet v2 to augment our CNN. This model has been highly trained on millions of examples, and can detect features that would be useful in colorizing our test images. The fusion of IRNet features with our CNN will come later in RainbowNetModel(). For now, these functions load the model and set up predictions.\n",
        "\n"
      ],
      "cell_type": "markdown"
    },
    {
      "metadata": {
        "id": "mRJoYEaRAjkl",
        "colab_type": "code",
        "colab": {
          "autoexec": {
            "startup": false,
            "wait_interval": 0
          }
        }
      },
      "source": [
        "def load_inception_net():\n",
        "  inception = InceptionResNetV2(weights='imagenet', include_top=True)\n",
        "  inception.graph = tf.get_default_graph()\n",
        "  return inception"
      ],
      "cell_type": "code",
      "execution_count": 0,
      "outputs": []
    },
    {
      "metadata": {
        "id": "1fh3CRW0EY-p",
        "colab_type": "code",
        "colab": {
          "autoexec": {
            "startup": false,
            "wait_interval": 0
          }
        }
      },
      "source": [
        "def create_inception_embedding(grayscaled_rgb):\n",
        "  \"\"\" One forward pass through the Inception ResNet.\n",
        "      \n",
        "      |grayscaled_rgb|: the images we are embedding in grayscale. \n",
        "      \n",
        "      :return: (m, 1000) vector.\n",
        "  \"\"\"\n",
        "  # Resize all the images to (299, 299, 3).\n",
        "  grayscaled_rgb_resized = resize_images(grayscaled_rgb, (299, 299, 3))\n",
        "\n",
        "  # preprocessing for the Inception resnet\n",
        "  grayscaled_rgb_resized = preprocess_input(grayscaled_rgb_resized)\n",
        "\n",
        "  # Predict.\n",
        "  with inception.graph.as_default():\n",
        "    embed = inception.predict(grayscaled_rgb_resized)\n",
        "  \n",
        "  return embed"
      ],
      "cell_type": "code",
      "execution_count": 0,
      "outputs": []
    },
    {
      "metadata": {
        "id": "50TChswogMXZ",
        "colab_type": "code",
        "colab": {
          "autoexec": {
            "startup": false,
            "wait_interval": 0
          },
          "output_extras": [
            {
              "item_id": 26
            }
          ],
          "base_uri": "https://localhost:8080/",
          "height": 85
        },
        "outputId": "1bf01f36-aa4d-4205-e2c0-1ade7dc387fc",
        "executionInfo": {
          "status": "ok",
          "timestamp": 1512115072280,
          "user_tz": 480,
          "elapsed": 22209,
          "user": {
            "displayName": "Owen Wang",
            "photoUrl": "//lh4.googleusercontent.com/--IeYa_Fhc0s/AAAAAAAAAAI/AAAAAAAABHo/lk0tUPNi5hY/s50-c-k-no/photo.jpg",
            "userId": "113047125933593071636"
          }
        }
      },
      "source": [
        "# Get the weights for inception resnet if we don't have them\n",
        "\"\"\"\n",
        "weights_path = model_metadata_dir + \"inception_resnet_v2_weights.h5\"\n",
        "weights_id = \"1L9cHTdvBocGHi-SJmgR_27ak6OPudJDc\"\n",
        "if not os.path.isfile(weights_path):\n",
        "  print (\"Didn't find the inception resnet weights. Downloading them.\")\n",
        "  download_file_from_google_drive(weights_id, weights_path)\n",
        "\"\"\"\n",
        "# Deprecated: Can automatically get weights from Keras.\n",
        "\n",
        "  \n",
        "# initialize inception resnet, for use in |preprocess_data()|\n",
        "# -----------------------------------------------------------\n",
        "try:\n",
        "    assert type(inception) == keras.engine.training.Model\n",
        "except (NameError, AssertionError):  \n",
        "    inception = load_inception_net()\n",
        "\n",
        "    \n",
        "print (\"Loaded Inception Resnet model for generating image embeddings.\")\n"
      ],
      "cell_type": "code",
      "execution_count": 27,
      "outputs": [
        {
          "output_type": "stream",
          "text": [
            "Downloading data from https://github.com/fchollet/deep-learning-models/releases/download/v0.7/inception_resnet_v2_weights_tf_dim_ordering_tf_kernels.h5\n",
            "225214464/225209952 [==============================] - 6s 0us/step\n",
            "225222656/225209952 [==============================] - 6s 0us/step\n",
            "Loaded Inception Resnet model for generating image embeddings.\n"
          ],
          "name": "stdout"
        }
      ]
    },
    {
      "metadata": {
        "id": "z22Iv5k2D5y0",
        "colab_type": "text"
      },
      "source": [
        "## Loading data for Baseline and RainbowNet\n",
        "The function to load data."
      ],
      "cell_type": "markdown"
    },
    {
      "metadata": {
        "id": "gjrKq1-pCWC2",
        "colab_type": "code",
        "colab": {
          "autoexec": {
            "startup": false,
            "wait_interval": 0
          }
        }
      },
      "source": [
        "# Examples of use:\n",
        "# load_data(train_dir)\n",
        "# load_data(test_dir)\n",
        "\n",
        "def load_data(directory):\n",
        "    \"\"\" Load an entire set of |m| examples. If loading entire dataset takes\n",
        "      too much memory, may have to run in batches: \n",
        "      train, save chkpt.\n",
        "      Put new examples in the directory.\n",
        "      Repeat. \n",
        "    \"\"\"\n",
        "    images = []\n",
        "    for filename in os.listdir(directory):\n",
        "      image = load_img(directory + filename)  # PIL image\n",
        "      images.append(img_to_array(image))      # np.array\n",
        "\n",
        "    images = np.array(images, dtype=float)\n",
        "    return images\n",
        "  "
      ],
      "cell_type": "code",
      "execution_count": 0,
      "outputs": []
    },
    {
      "metadata": {
        "id": "NASk5-4fv6wy",
        "colab_type": "text"
      },
      "source": [
        "## Getting/processing the data for RainbowNet\n",
        "These are the functions that load the data, for training and for test.\n",
        "\n",
        "```preprocess_data()``` then processes them for input into our CNN. This involves converting to *Lab* and separating the channels, running through InceptionResnet, and normalizing the *L* channel input."
      ],
      "cell_type": "markdown"
    },
    {
      "metadata": {
        "id": "fjFTS5AOQPYW",
        "colab_type": "code",
        "colab": {
          "autoexec": {
            "startup": false,
            "wait_interval": 0
          }
        }
      },
      "source": [
        "def preprocess_data(images):\n",
        "    \"\"\" Preprocess the data for input into our rainbownet model.\n",
        "    \"\"\"\n",
        "    \n",
        "    print(\"preprocess_data(): obtained %d images.\" % len(images))\n",
        "\n",
        "    #analyze_images(images)\n",
        "    # Resize them to (224,224)\n",
        "    print(\"preprocess_data(): Resizing\")\n",
        "    images_resized = resize_images(images, (224, 224, 3))\n",
        "    \n",
        "    # Get the inception embeddings from grayscaled images. \n",
        "    #   This will be part of our passed in input.\n",
        "    print(\"preprocess_data(): Creating inception embeddings\")\n",
        "    grayscaled_images = gray2rgb(rgb2gray(images_resized))\n",
        "    embs = create_inception_embedding(grayscaled_images) # a numpy array\n",
        "\n",
        "    # Normalize the resized images (which are in RGB) to [0,1] to prepare for rgb2lab.\n",
        "    images_normed = images_resized - np.amin(images_resized, axis=(1,2), keepdims=True)\n",
        "    images_normed = images_normed / np.amax(images_normed, axis=(1,2), keepdims=True)\n",
        "    #analyze_images(images_normed)\n",
        "    \n",
        "    # Transform to lab. Separate the l- and ab- channels\n",
        "    print(\"preprocess_data(): Separating L and ab channels\")\n",
        "    images_lab = rgb2lab(images_normed)\n",
        "    #analyze_images(images_lab)\n",
        "    images_l = images_lab[:,:,:,0,np.newaxis]     # shape (m, H, W, n_frames=1 for now)\n",
        "    images_ab = images_lab[:,:,:,1:]              # shape (m, H, W, 2) \n",
        "    \n",
        "    # Normalize L channel to be between 0, 1.\n",
        "    print(\"preprocess_data(): Normalizing L channel to [0,1]\")\n",
        "    bottom = np.amin(images_l, axis=(1,2), keepdims=True)\n",
        "    images_l -= bottom\n",
        "    top = np.amax(images_l, axis=(1,2), keepdims=True)\n",
        "    images_l /= top\n",
        "\n",
        "    # Create X, composed of L channel + the embedding\n",
        "    X_images = images_l\n",
        "    X_embeds = embs\n",
        "\n",
        "    # Create Y, including discretizing the ab image\n",
        "    print(\"preprocess_data(): discretizing Y\")\n",
        "    Y = discretize(images_ab)       # shape (m, H, W)\n",
        "    \n",
        "    print(\"preprocess_data(): done. returning X_img, X_emb, Y\")\n",
        "    return X_images, X_embeds, Y"
      ],
      "cell_type": "code",
      "execution_count": 0,
      "outputs": []
    },
    {
      "metadata": {
        "id": "sK7ROlEzwCaz",
        "colab_type": "text"
      },
      "source": [
        "## Defining our per-pixel softmax loss\n",
        "Our colorization loss is the softmax cross-entropy between the multinomial color distributions of every pixel in ```y_true``` and ```y_pred``` over all pixels (H,W), over all images in the minibatch. Inspired by the colorization paper, to solve issues other losses like desaturation from MSE.\n",
        "\n"
      ],
      "cell_type": "markdown"
    },
    {
      "metadata": {
        "id": "0AulesrE1bod",
        "colab_type": "code",
        "colab": {
          "autoexec": {
            "startup": false,
            "wait_interval": 0
          }
        }
      },
      "source": [
        "# Deprecated. Keras doesn't like this, I'm guessing it doesn't know how to backprop through our custom function and is complaining\n",
        "# Better soln below.\n",
        "\"\"\"\n",
        "def homemade_to_categorical(y):\n",
        "    #shape (m, 224, 224)\n",
        "    m, H, W = y.shape\n",
        "    categorical = np.zeros((m, H, W, NUM_VALID_BUCKETS))\n",
        "    for i in xrange(m):\n",
        "      for h in xrange(H):\n",
        "        for w in xrange(W):\n",
        "          index = int(y[i,h,w])\n",
        "          categorical[i,h,w,index] = 1.\n",
        "    return categorical\n",
        "\n",
        "\n",
        "def homemade_to_categorical(y):\n",
        "  debug(np.max(y)+1, \"max in y\")\n",
        "  assert np.max(y) + 1 == NUM_VALID_BUCKETS\n",
        "  m, H, W = y.shape\n",
        "  \n",
        "  categorical = np.zeros(y.shape + (NUM_VALID_BUCKETS))\n",
        "  \n",
        "  for i in xrange(m):\n",
        "    logit_vals = y[i]\n",
        "    Hlist = [num / W for num in range(H*W)]\n",
        "    Wlist = list(range(W)) * H\n",
        "    categorical[i, Hlist, Wlist, y] = 1\n",
        "    \n",
        "  return categorical\n",
        "\"\"\""
      ],
      "cell_type": "code",
      "execution_count": 0,
      "outputs": []
    },
    {
      "metadata": {
        "id": "kagX1JnwGF2o",
        "colab_type": "code",
        "colab": {
          "autoexec": {
            "startup": false,
            "wait_interval": 0
          }
        }
      },
      "source": [
        "def colorization_loss(y_true, y_pred):\n",
        "  \"\"\" |y_true|: Our true colors. A tensor (batch_size, H, W) with entries \n",
        "                specifying one of the buckets that pixel's color is in.\n",
        "      |y_pred|: A (batch_size, H, W, NUM_VALID_BUCKETS) tensor with last dimension a\n",
        "                softmax over bucket probabilities.\n",
        "  \n",
        "      This loss involves computing the softmax cross-entropy over pixel's\n",
        "        predicted color bucket, over all images in the batch.\n",
        "  \"\"\"\n",
        "  #   TODO: implement color weighting, like in Richard Zhang et al.\n",
        "  #------\n",
        "  \n",
        "  #TODO FIX BUG: extract y_true out of the zero padding with tf.slice\n",
        "  # See comments in the training the model cell a couple of cells down\n",
        "  # because...\n",
        "  # The Problem\n",
        "  # ------------\n",
        "  # Keras forces any custom loss we write to take 2 tensors of same dims which is stupid\n",
        "  # rn, our y_true = (m, 224, 224) and y_pred = (m, 224, 224, 394) so Keras is complaining\n",
        "  # the lines below calculate a loss even when keeping y_true as logits which is great\n",
        "  # I'm trying to find a way to get around this enforcement of same dims\n",
        "  # One solution is to pass our labels as an input, actually\n",
        "  # See the \"compile and fit the model\" cell for a link to the Keras github issue that talks about this\n",
        "  # Best case scenario: Don't even need a custom loss, just somehow do tf.reduce_sum(K.sparse_...())\n",
        "  #    without breaking out a custom function and causing this whole headache\n",
        "  \n",
        "  xentropy_losses = K.sparse_categorical_crossentropy(y_true, y_pred) # (m, H, W) Xentropy along last dimension\n",
        "  # TODO: weight by predicted colors, so results aren't desaturated?\n",
        "  return tf.reduce_sum(xentropy_losses) # aggregate xentropy summed over m, H, W\n",
        "  "
      ],
      "cell_type": "code",
      "execution_count": 0,
      "outputs": []
    },
    {
      "metadata": {
        "id": "BO3Vi_Mey7R-",
        "colab_type": "text"
      },
      "source": [
        "## Defining our RainbowNet model\n"
      ],
      "cell_type": "markdown"
    },
    {
      "metadata": {
        "id": "GwG4zlyDBXE0",
        "colab_type": "code",
        "colab": {
          "autoexec": {
            "startup": false,
            "wait_interval": 0
          },
          "output_extras": [
            {
              "item_id": 1
            }
          ],
          "base_uri": "https://localhost:8080/",
          "height": 1241
        },
        "outputId": "abcdc52c-3dd3-423a-8068-78f72b2eefab",
        "executionInfo": {
          "status": "ok",
          "timestamp": 1512118869365,
          "user_tz": 480,
          "elapsed": 1273,
          "user": {
            "displayName": "Owen Wang",
            "photoUrl": "//lh4.googleusercontent.com/--IeYa_Fhc0s/AAAAAAAAAAI/AAAAAAAABHo/lk0tUPNi5hY/s50-c-k-no/photo.jpg",
            "userId": "113047125933593071636"
          }
        }
      },
      "source": [
        "def RainbowNetModel():\n",
        "  # THE MEAT OF THE CODE\n",
        "  # Inspired by the colorization paper's architecture. Keep in mind they trained\n",
        "  #   on ImageNet though.\n",
        "  \n",
        "  # Input will have to be modified for doing image seqs. \n",
        "  #   In particular the volume is probably not 1 channel, but n_frames channels.\n",
        "  embedding_input = Input(shape=(1000,), name='embed_input')\n",
        "  encoder_input = Input(shape=(224, 224, 1,), name='image_input')\n",
        "\n",
        "  # NOTE: The number of times we do \"strides=2\" is the \n",
        "  #   same as the number of times we do Upsampling2D. \n",
        "  \n",
        "  # Encoder\n",
        "  # -------\n",
        "  encoder_output = Conv2D(64, (3,3), activation='relu', padding='same', name='enc_1-1')(encoder_input)\n",
        "  encoder_output = Conv2D(64, (3,3), activation='relu', padding='same', strides=2, name='enc_1-2down')(encoder_input) #112\n",
        "  encoder_output = BatchNormalization(name='enc_1-bn')(encoder_output)\n",
        "  \n",
        "  encoder_output = Conv2D(128, (3,3), activation='relu', padding='same', name='enc_2-1')(encoder_output)\n",
        "  encoder_output = Conv2D(128, (3,3), activation='relu', padding='same', strides=2, name='enc_2-2down')(encoder_output) #56\n",
        "  encoder_output = BatchNormalization(name='enc_2-bn')(encoder_output)\n",
        "  \n",
        "  encoder_output = Conv2D(256, (3,3), activation='relu', padding='same', name='enc_3-1')(encoder_output)\n",
        "  encoder_output = Conv2D(256, (3,3), activation='relu', padding='same', strides=2, name='enc_3-2down')(encoder_output) #28\n",
        "  encoder_output = BatchNormalization(name='enc_3-bn')(encoder_output)\n",
        "  \n",
        "  # May have to reduce layers if we don't have enough training data, to avoid overfitting.\n",
        "  encoder_output = Conv2D(512, (3,3), activation='relu', padding='same', name='enc_4-1')(encoder_output)\n",
        "  encoder_output = Conv2D(512, (3,3), activation='relu', padding='same', name='enc_4-2')(encoder_output)\n",
        "  encoder_output = BatchNormalization(name='enc_4-bn')(encoder_output)\n",
        "\n",
        "\n",
        "  # Fusion\n",
        "  # ------\n",
        "  fusion_output = RepeatVector(28 * 28, name='fuse_repeat')(embedding_input) \n",
        "  fusion_output = Reshape(([28, 28, 1000]), name='fuse_reshape')(fusion_output)\n",
        "  fusion_output = concatenate([encoder_output, fusion_output], axis=3, name='fuse_concat')  # Stack along thickness dimension\n",
        "  \n",
        "  # A volume that solidifies the fusion from the inception-resnet vectors + our previous volume:\n",
        "  fusion_output = Conv2D(512, (1, 1), activation='relu', padding='same', name='fuse_conv2d')(fusion_output) \n",
        "\n",
        "\n",
        "  #Decoder\n",
        "  # May have to reduce layers if we don't have enough training data, to avoid overfitting.\n",
        "  decoder_output = Conv2D(256, (3,3), activation='relu', padding='same', name='dec_1-1')(fusion_output) # 28\n",
        "  decoder_output = Conv2D(256, (3,3), activation='relu', padding='same', name='dec_1-2')(decoder_output)\n",
        "  decoder_output = BatchNormalization(name='dec_1-bn')(decoder_output)\n",
        "  decoder_output = UpSampling2D((2, 2), name='dec_1-up')(decoder_output) # 56\n",
        "  \n",
        "  decoder_output = Conv2D(128, (3,3), activation='relu', padding='same', name='dec_2-1')(decoder_output)\n",
        "  decoder_output = Conv2D(128, (3,3), activation='relu', padding='same', name='dec_2-2')(decoder_output)\n",
        "  decoder_output = BatchNormalization(name='dec_2-bn')(decoder_output)\n",
        "  decoder_output = UpSampling2D((2, 2), name='dec_2-up')(decoder_output) # 112\n",
        "  \n",
        "  decoder_output = Conv2D(64, (3,3), activation='relu', padding='same', name='dec_3-1')(decoder_output)\n",
        "  decoder_output = Conv2D(64, (3,3), activation='relu', padding='same', name='dec_3-2')(decoder_output)\n",
        "  decoder_output = BatchNormalization(name='dec_3-bn')(decoder_output)\n",
        "  decoder_output = UpSampling2D((2, 2), name='dec_3-up')(decoder_output) # 224\n",
        "  \n",
        "  decoder_output = Conv2D(128, (3,3), activation='relu', padding='same', name='dec_4-1')(decoder_output)\n",
        "  decoder_output = Conv2D(256, (3,3), activation='relu', padding='same', name='dec_4-2')(decoder_output)\n",
        "  \n",
        "  # BUGGY???\n",
        "  #def softmax_for_rainbownet(x):\n",
        "  #  return softmax(x, axis=2)\n",
        "\n",
        "  softmax_output = Conv2D(NUM_VALID_BUCKETS, (3,3), activation=softmax, padding='same', name='dec_5_final_output')(decoder_output)\n",
        "  \n",
        "  model = Model(inputs=[encoder_input, embedding_input], outputs=softmax_output)\n",
        "  return model\n",
        "\n",
        "rainbowModel = RainbowNetModel()\n",
        "rainbowModel.summary()"
      ],
      "cell_type": "code",
      "execution_count": 47,
      "outputs": [
        {
          "output_type": "stream",
          "text": [
            "__________________________________________________________________________________________________\n",
            "Layer (type)                    Output Shape         Param #     Connected to                     \n",
            "==================================================================================================\n",
            "image_input (InputLayer)        (None, 224, 224, 1)  0                                            \n",
            "__________________________________________________________________________________________________\n",
            "enc_1-2down (Conv2D)            (None, 112, 112, 64) 640         image_input[0][0]                \n",
            "__________________________________________________________________________________________________\n",
            "enc_1-bn (BatchNormalization)   (None, 112, 112, 64) 256         enc_1-2down[0][0]                \n",
            "__________________________________________________________________________________________________\n",
            "enc_2-1 (Conv2D)                (None, 112, 112, 128 73856       enc_1-bn[0][0]                   \n",
            "__________________________________________________________________________________________________\n",
            "enc_2-2down (Conv2D)            (None, 56, 56, 128)  147584      enc_2-1[0][0]                    \n",
            "__________________________________________________________________________________________________\n",
            "enc_2-bn (BatchNormalization)   (None, 56, 56, 128)  512         enc_2-2down[0][0]                \n",
            "__________________________________________________________________________________________________\n",
            "enc_3-1 (Conv2D)                (None, 56, 56, 256)  295168      enc_2-bn[0][0]                   \n",
            "__________________________________________________________________________________________________\n",
            "enc_3-2down (Conv2D)            (None, 28, 28, 256)  590080      enc_3-1[0][0]                    \n",
            "__________________________________________________________________________________________________\n",
            "enc_3-bn (BatchNormalization)   (None, 28, 28, 256)  1024        enc_3-2down[0][0]                \n",
            "__________________________________________________________________________________________________\n",
            "enc_4-1 (Conv2D)                (None, 28, 28, 512)  1180160     enc_3-bn[0][0]                   \n",
            "__________________________________________________________________________________________________\n",
            "embed_input (InputLayer)        (None, 1000)         0                                            \n",
            "__________________________________________________________________________________________________\n",
            "enc_4-2 (Conv2D)                (None, 28, 28, 512)  2359808     enc_4-1[0][0]                    \n",
            "__________________________________________________________________________________________________\n",
            "fuse_repeat (RepeatVector)      (None, 784, 1000)    0           embed_input[0][0]                \n",
            "__________________________________________________________________________________________________\n",
            "enc_4-bn (BatchNormalization)   (None, 28, 28, 512)  2048        enc_4-2[0][0]                    \n",
            "__________________________________________________________________________________________________\n",
            "fuse_reshape (Reshape)          (None, 28, 28, 1000) 0           fuse_repeat[0][0]                \n",
            "__________________________________________________________________________________________________\n",
            "fuse_concat (Concatenate)       (None, 28, 28, 1512) 0           enc_4-bn[0][0]                   \n",
            "                                                                 fuse_reshape[0][0]               \n",
            "__________________________________________________________________________________________________\n",
            "fuse_conv2d (Conv2D)            (None, 28, 28, 512)  774656      fuse_concat[0][0]                \n",
            "__________________________________________________________________________________________________\n",
            "dec_1-1 (Conv2D)                (None, 28, 28, 256)  1179904     fuse_conv2d[0][0]                \n",
            "__________________________________________________________________________________________________\n",
            "dec_1-2 (Conv2D)                (None, 28, 28, 256)  590080      dec_1-1[0][0]                    \n",
            "__________________________________________________________________________________________________\n",
            "dec_1-bn (BatchNormalization)   (None, 28, 28, 256)  1024        dec_1-2[0][0]                    \n",
            "__________________________________________________________________________________________________\n",
            "dec_1-up (UpSampling2D)         (None, 56, 56, 256)  0           dec_1-bn[0][0]                   \n",
            "__________________________________________________________________________________________________\n",
            "dec_2-1 (Conv2D)                (None, 56, 56, 128)  295040      dec_1-up[0][0]                   \n",
            "__________________________________________________________________________________________________\n",
            "dec_2-2 (Conv2D)                (None, 56, 56, 128)  147584      dec_2-1[0][0]                    \n",
            "__________________________________________________________________________________________________\n",
            "dec_2-bn (BatchNormalization)   (None, 56, 56, 128)  512         dec_2-2[0][0]                    \n",
            "__________________________________________________________________________________________________\n",
            "dec_2-up (UpSampling2D)         (None, 112, 112, 128 0           dec_2-bn[0][0]                   \n",
            "__________________________________________________________________________________________________\n",
            "dec_3-1 (Conv2D)                (None, 112, 112, 64) 73792       dec_2-up[0][0]                   \n",
            "__________________________________________________________________________________________________\n",
            "dec_3-2 (Conv2D)                (None, 112, 112, 64) 36928       dec_3-1[0][0]                    \n",
            "__________________________________________________________________________________________________\n",
            "dec_3-bn (BatchNormalization)   (None, 112, 112, 64) 256         dec_3-2[0][0]                    \n",
            "__________________________________________________________________________________________________\n",
            "dec_3-up (UpSampling2D)         (None, 224, 224, 64) 0           dec_3-bn[0][0]                   \n",
            "__________________________________________________________________________________________________\n",
            "dec_4-1 (Conv2D)                (None, 224, 224, 128 73856       dec_3-up[0][0]                   \n",
            "__________________________________________________________________________________________________\n",
            "dec_4-2 (Conv2D)                (None, 224, 224, 256 295168      dec_4-1[0][0]                    \n",
            "__________________________________________________________________________________________________\n",
            "dec_5_final_output (Conv2D)     (None, 224, 224, 394 908170      dec_4-2[0][0]                    \n",
            "==================================================================================================\n",
            "Total params: 9,028,106\n",
            "Trainable params: 9,025,290\n",
            "Non-trainable params: 2,816\n",
            "__________________________________________________________________________________________________\n"
          ],
          "name": "stdout"
        }
      ]
    },
    {
      "metadata": {
        "id": "pmLzCuBPFMlx",
        "colab_type": "text"
      },
      "source": [
        "### Saving and loading this model"
      ],
      "cell_type": "markdown"
    },
    {
      "metadata": {
        "id": "D9faritUCfc3",
        "colab_type": "code",
        "colab": {
          "autoexec": {
            "startup": false,
            "wait_interval": 0
          }
        }
      },
      "source": [
        "def save_model(model, model_save_path):\n",
        "  model_json = model.to_json()\n",
        "  with open(model_save_path + model_name + \".json\", \"w\") as json_file:\n",
        "    json_file.write(model_json)\n",
        "  model.save_weights(model_save_path + model_name + \".h5\")"
      ],
      "cell_type": "code",
      "execution_count": 0,
      "outputs": []
    },
    {
      "metadata": {
        "id": "AUNILyqwO1LF",
        "colab_type": "code",
        "colab": {
          "autoexec": {
            "startup": false,
            "wait_interval": 0
          }
        }
      },
      "source": [
        "def load_existing_model():\n",
        "  weights_path = model_chkpt + model_name + \".h5\"\n",
        "\n",
        "  if not os.path.isfile(weights_path):\n",
        "    print(\"The model at path %s was not found.\" % weights_path)\n",
        "    quit()\n",
        "    \n",
        "  model = RainbowNetModel()\n",
        "  rainbowModel.load_weights(weights_path)\n",
        "  return model"
      ],
      "cell_type": "code",
      "execution_count": 0,
      "outputs": []
    },
    {
      "metadata": {
        "id": "8iMohPPAmMqL",
        "colab_type": "text"
      },
      "source": [
        "## Time to train our RainbowNet model!\n",
        "Now we can run our model. It will save its parameters after every training session.\n",
        "\n",
        "If you're looking to only predict, run the cell after this."
      ],
      "cell_type": "markdown"
    },
    {
      "metadata": {
        "id": "WAm6DeX9FVFQ",
        "colab_type": "text"
      },
      "source": [
        "### Load and preprocess the data"
      ],
      "cell_type": "markdown"
    },
    {
      "metadata": {
        "id": "YI5ElZQseuYX",
        "colab_type": "code",
        "colab": {
          "autoexec": {
            "startup": false,
            "wait_interval": 0
          }
        }
      },
      "source": [
        "display = False\n",
        "if display:\n",
        "  print(train_dir)\n",
        "  ! ls ../data/train\n",
        "  \n",
        "X_train_img = None\n",
        "X_train_emb = None\n",
        "Y_train = None\n",
        "X_test_img = None\n",
        "X_test_emb = None\n",
        "Y_test = None"
      ],
      "cell_type": "code",
      "execution_count": 0,
      "outputs": []
    },
    {
      "metadata": {
        "id": "bdo65n6QSjWW",
        "colab_type": "code",
        "colab": {
          "autoexec": {
            "startup": false,
            "wait_interval": 0
          },
          "output_extras": [
            {
              "item_id": 6
            }
          ],
          "base_uri": "https://localhost:8080/",
          "height": 323
        },
        "outputId": "67e65e3d-767a-449b-a65a-583736250267",
        "executionInfo": {
          "status": "ok",
          "timestamp": 1512116147181,
          "user_tz": 480,
          "elapsed": 97576,
          "user": {
            "displayName": "Owen Wang",
            "photoUrl": "//lh4.googleusercontent.com/--IeYa_Fhc0s/AAAAAAAAAAI/AAAAAAAABHo/lk0tUPNi5hY/s50-c-k-no/photo.jpg",
            "userId": "113047125933593071636"
          }
        }
      },
      "source": [
        "images_train = load_data(train_dir)\n",
        "X_train_img, X_train_emb, Y_train = preprocess_data(images_train)\n",
        "print (\"Loaded training data.\\n==========\")\n",
        "\n",
        "images_test = load_data(test_dir)\n",
        "X_test_img, X_test_emb, Y_test = preprocess_data(images_test)\n",
        "# We are going to test on train for now to sanity check.\n",
        "#X_test, Y_test = X_train, Y_train\n",
        "print (\"Loaded test data.\\n==========\")"
      ],
      "cell_type": "code",
      "execution_count": 39,
      "outputs": [
        {
          "output_type": "stream",
          "text": [
            "preprocess_data(): obtained 44 images.\n",
            "preprocess_data(): Resizing\n",
            "preprocess_data(): Creating inception embeddings\n",
            "preprocess_data(): Separating L and ab channels\n",
            "preprocess_data(): Normalizing L channel to [0,1]\n",
            "preprocess_data(): discretizing Y\n",
            "preprocess_data(): done. returning X, Y\n",
            "Loaded training data.\n",
            "==========\n",
            "preprocess_data(): obtained 1 images.\n",
            "preprocess_data(): Resizing\n",
            "preprocess_data(): Creating inception embeddings\n",
            "preprocess_data(): Separating L and ab channels\n",
            "preprocess_data(): Normalizing L channel to [0,1]\n",
            "preprocess_data(): discretizing Y\n",
            "preprocess_data(): done. returning X, Y\n",
            "Loaded test data.\n",
            "==========\n"
          ],
          "name": "stdout"
        }
      ]
    },
    {
      "metadata": {
        "id": "tmWVG2aWFYfJ",
        "colab_type": "text"
      },
      "source": [
        "### Compile and fit the model"
      ],
      "cell_type": "markdown"
    },
    {
      "metadata": {
        "id": "JlWI0B-DEZHo",
        "colab_type": "code",
        "colab": {
          "autoexec": {
            "startup": false,
            "wait_interval": 0
          },
          "output_extras": [
            {
              "item_id": 1
            }
          ],
          "base_uri": "https://localhost:8080/",
          "height": 613
        },
        "outputId": "393fe030-7a30-4113-fb50-0fdd0ec55476",
        "executionInfo": {
          "status": "error",
          "timestamp": 1512121142871,
          "user_tz": 480,
          "elapsed": 773,
          "user": {
            "displayName": "Owen Wang",
            "photoUrl": "//lh4.googleusercontent.com/--IeYa_Fhc0s/AAAAAAAAAAI/AAAAAAAABHo/lk0tUPNi5hY/s50-c-k-no/photo.jpg",
            "userId": "113047125933593071636"
          }
        }
      },
      "source": [
        "# Run the model!\n",
        "with tf.Session() as sess:\n",
        "  \n",
        "  try: # We might have already instantiated the model earlier in the definition cell for a summary.\n",
        "    rainbowModel\n",
        "  except NameError:\n",
        "    rainbowModel = RainbowNetModel()\n",
        "\n",
        "  rainbowModel.compile(optimizer='adam', \n",
        "                       loss=colorization_loss)\n",
        "  \n",
        "  # TODO: haaaaacky thing, we gotta feed in Y_train as an input...? or else pad with all 0's and then extract what we\n",
        "  #  actually want later, but that gives us the same huge memory size problem\n",
        "  # ValueError: Error when checking target: expected dec_5_final_output to have 4 dimensions, but got array with shape (44, 224, 224)\n",
        "\n",
        "  # Read this thread: they have the hacky labels-as-inputs soln.\n",
        "  # -----------------\n",
        "  # https://github.com/fchollet/keras/issues/4781\n",
        "  rainbowModel.fit({'image_input': X_train_img, 'embed_input': X_train_emb}, # X\n",
        "                   {'dec_5_final_output': Y_train}, # Y\n",
        "                   epochs=2,\n",
        "                   batch_size=BATCH_SIZE)\n",
        "\n",
        "  save_model(rainbowModel, model_chkpt)\n",
        "\n",
        "  # Get predictions after we've trained.\n",
        "  predictions = rainbowModel.evaluate(X_test, Y_test)\n"
      ],
      "cell_type": "code",
      "execution_count": 54,
      "outputs": [
        {
          "output_type": "error",
          "ename": "ValueError",
          "evalue": "ignored",
          "traceback": [
            "\u001b[0;31m\u001b[0m",
            "\u001b[0;31mValueError\u001b[0mTraceback (most recent call last)",
            "\u001b[0;32m<ipython-input-54-496f3190bf1c>\u001b[0m in \u001b[0;36m<module>\u001b[0;34m()\u001b[0m\n\u001b[1;32m     13\u001b[0m                    \u001b[0;34m[\u001b[0m\u001b[0mY_train\u001b[0m\u001b[0;34m]\u001b[0m\u001b[0;34m,\u001b[0m \u001b[0;31m# Y\u001b[0m\u001b[0;34m\u001b[0m\u001b[0m\n\u001b[1;32m     14\u001b[0m                    \u001b[0mepochs\u001b[0m\u001b[0;34m=\u001b[0m\u001b[0;36m2\u001b[0m\u001b[0;34m,\u001b[0m\u001b[0;34m\u001b[0m\u001b[0m\n\u001b[0;32m---> 15\u001b[0;31m                    batch_size=BATCH_SIZE)\n\u001b[0m\u001b[1;32m     16\u001b[0m \u001b[0;34m\u001b[0m\u001b[0m\n\u001b[1;32m     17\u001b[0m   \u001b[0msave_model\u001b[0m\u001b[0;34m(\u001b[0m\u001b[0mrainbowModel\u001b[0m\u001b[0;34m,\u001b[0m \u001b[0mmodel_chkpt\u001b[0m\u001b[0;34m)\u001b[0m\u001b[0;34m\u001b[0m\u001b[0m\n",
            "\u001b[0;32m/usr/local/lib/python2.7/dist-packages/keras/engine/training.pyc\u001b[0m in \u001b[0;36mfit\u001b[0;34m(self, x, y, batch_size, epochs, verbose, callbacks, validation_split, validation_data, shuffle, class_weight, sample_weight, initial_epoch, steps_per_epoch, validation_steps, **kwargs)\u001b[0m\n\u001b[1;32m   1572\u001b[0m             \u001b[0mclass_weight\u001b[0m\u001b[0;34m=\u001b[0m\u001b[0mclass_weight\u001b[0m\u001b[0;34m,\u001b[0m\u001b[0;34m\u001b[0m\u001b[0m\n\u001b[1;32m   1573\u001b[0m             \u001b[0mcheck_batch_axis\u001b[0m\u001b[0;34m=\u001b[0m\u001b[0mFalse\u001b[0m\u001b[0;34m,\u001b[0m\u001b[0;34m\u001b[0m\u001b[0m\n\u001b[0;32m-> 1574\u001b[0;31m             batch_size=batch_size)\n\u001b[0m\u001b[1;32m   1575\u001b[0m         \u001b[0;31m# Prepare validation data.\u001b[0m\u001b[0;34m\u001b[0m\u001b[0;34m\u001b[0m\u001b[0m\n\u001b[1;32m   1576\u001b[0m         \u001b[0mdo_validation\u001b[0m \u001b[0;34m=\u001b[0m \u001b[0mFalse\u001b[0m\u001b[0;34m\u001b[0m\u001b[0m\n",
            "\u001b[0;32m/usr/local/lib/python2.7/dist-packages/keras/engine/training.pyc\u001b[0m in \u001b[0;36m_standardize_user_data\u001b[0;34m(self, x, y, sample_weight, class_weight, check_batch_axis, batch_size)\u001b[0m\n\u001b[1;32m   1409\u001b[0m                                     \u001b[0moutput_shapes\u001b[0m\u001b[0;34m,\u001b[0m\u001b[0;34m\u001b[0m\u001b[0m\n\u001b[1;32m   1410\u001b[0m                                     \u001b[0mcheck_batch_axis\u001b[0m\u001b[0;34m=\u001b[0m\u001b[0mFalse\u001b[0m\u001b[0;34m,\u001b[0m\u001b[0;34m\u001b[0m\u001b[0m\n\u001b[0;32m-> 1411\u001b[0;31m                                     exception_prefix='target')\n\u001b[0m\u001b[1;32m   1412\u001b[0m         sample_weights = _standardize_sample_weights(sample_weight,\n\u001b[1;32m   1413\u001b[0m                                                      self._feed_output_names)\n",
            "\u001b[0;32m/usr/local/lib/python2.7/dist-packages/keras/engine/training.pyc\u001b[0m in \u001b[0;36m_standardize_input_data\u001b[0;34m(data, names, shapes, check_batch_axis, exception_prefix)\u001b[0m\n\u001b[1;32m    139\u001b[0m                                  \u001b[0;34m' to have '\u001b[0m \u001b[0;34m+\u001b[0m \u001b[0mstr\u001b[0m\u001b[0;34m(\u001b[0m\u001b[0mlen\u001b[0m\u001b[0;34m(\u001b[0m\u001b[0mshapes\u001b[0m\u001b[0;34m[\u001b[0m\u001b[0mi\u001b[0m\u001b[0;34m]\u001b[0m\u001b[0;34m)\u001b[0m\u001b[0;34m)\u001b[0m \u001b[0;34m+\u001b[0m\u001b[0;34m\u001b[0m\u001b[0m\n\u001b[1;32m    140\u001b[0m                                  \u001b[0;34m' dimensions, but got array with shape '\u001b[0m \u001b[0;34m+\u001b[0m\u001b[0;34m\u001b[0m\u001b[0m\n\u001b[0;32m--> 141\u001b[0;31m                                  str(array.shape))\n\u001b[0m\u001b[1;32m    142\u001b[0m             \u001b[0;32mfor\u001b[0m \u001b[0mj\u001b[0m\u001b[0;34m,\u001b[0m \u001b[0;34m(\u001b[0m\u001b[0mdim\u001b[0m\u001b[0;34m,\u001b[0m \u001b[0mref_dim\u001b[0m\u001b[0;34m)\u001b[0m \u001b[0;32min\u001b[0m \u001b[0menumerate\u001b[0m\u001b[0;34m(\u001b[0m\u001b[0mzip\u001b[0m\u001b[0;34m(\u001b[0m\u001b[0marray\u001b[0m\u001b[0;34m.\u001b[0m\u001b[0mshape\u001b[0m\u001b[0;34m,\u001b[0m \u001b[0mshapes\u001b[0m\u001b[0;34m[\u001b[0m\u001b[0mi\u001b[0m\u001b[0;34m]\u001b[0m\u001b[0;34m)\u001b[0m\u001b[0;34m)\u001b[0m\u001b[0;34m:\u001b[0m\u001b[0;34m\u001b[0m\u001b[0m\n\u001b[1;32m    143\u001b[0m                 \u001b[0;32mif\u001b[0m \u001b[0;32mnot\u001b[0m \u001b[0mj\u001b[0m \u001b[0;32mand\u001b[0m \u001b[0;32mnot\u001b[0m \u001b[0mcheck_batch_axis\u001b[0m\u001b[0;34m:\u001b[0m\u001b[0;34m\u001b[0m\u001b[0m\n",
            "\u001b[0;31mValueError\u001b[0m: Error when checking target: expected dec_5_final_output to have 4 dimensions, but got array with shape (44, 224, 224)"
          ]
        }
      ]
    },
    {
      "metadata": {
        "id": "gw8GkuVLXn0S",
        "colab_type": "text"
      },
      "source": [
        "## Displaying our predictions afterwards\n",
        "The predictions are (m, H, W, NUM_VALID_BUCKETS), where the last dimension is the softmax vector. We need to process these so they're interpretable as color images."
      ],
      "cell_type": "markdown"
    },
    {
      "metadata": {
        "id": "jqxkxxlCFqtr",
        "colab_type": "code",
        "colab": {
          "autoexec": {
            "startup": false,
            "wait_interval": 0
          }
        }
      },
      "source": [
        "# The predictions are (m, H, W, NUM_VALID_BUCKETS = softmax dim).\n",
        "# We need to process these so they're interpretable as color images.\n",
        "m, H, W, _ = predictions.shape\n",
        "predicted_bucket_indices = np.argmax(predictions, axis=3)\n",
        "\n",
        "# Display / output the predictions.\n",
        "output_images_ab = inverse_discretize(predicted_buckets)\n",
        "output_images_lab = np.concatenate((X_test, output_images_ab), axis=3) # add the L channel back\n",
        "\n",
        "# save one image\n",
        "image = output_images_lab[0]\n",
        "image_rgb = lab2rgb(image)\n",
        "imsave(results_dir + \"rainbow_img.jpg\", image_rgb)\n",
        "\n",
        "from IPython.display import Image \n",
        "\n",
        "# Display what we have in results_dir.\n",
        "for filename in os.listdir(results_dir):\n",
        "  print filename\n",
        "  display(Image(results_dir + filename))"
      ],
      "cell_type": "code",
      "execution_count": 0,
      "outputs": []
    },
    {
      "metadata": {
        "id": "VF6DV0hSBATu",
        "colab_type": "text"
      },
      "source": [
        "## Baseline for comparison: processing, model, and training\n",
        "\n",
        "We implemented a simple baseline for comparison. 2 layer FCNN."
      ],
      "cell_type": "markdown"
    },
    {
      "metadata": {
        "id": "a8CJR0QCxsFO",
        "colab_type": "code",
        "colab": {
          "autoexec": {
            "startup": false,
            "wait_interval": 0
          }
        }
      },
      "source": [
        "# def preprocess_baseline_data(images):\n",
        "#     images_resized = resize_images(images, (224, 224, 3))\n",
        "#     debug(images_resized, \"resized\")\n",
        "#     images_resized_scaled = 1.0/255 * images_resized\n",
        "#     debug(images_resized_scaled, \"scaled\")\n",
        "#     images_lab = rgb2lab(images_resized_scaled)\n",
        "#     debug(images_lab, \"lab\")\n",
        "    \n",
        "#     X = images_lab[:,:,:,0] # / 128.\n",
        "#     debug(X, \"X\")\n",
        "#     Y = images_lab[:,:,:,1:] / 128.\n",
        "#     debug(Y, \"Y\")\n",
        "    \n",
        "#     X = X.reshape((len(X), np.prod(X.shape[1:])))\n",
        "#     Y = Y.reshape((len(Y), np.prod(Y.shape[1:])))\n",
        "#     return X, Y\n",
        " \n",
        "# milestone\n",
        "def preprocess_baseline_data(images):\n",
        "    images_resized = resize_images(images, (224, 224, 3))\n",
        "    X = rgb2lab(1.0 / 255 * images_resized)[:,:,:,0]\n",
        "    Y = rgb2lab(1.0 / 255 * images_resized)[:,:,:,1:] / 128.\n",
        "    \n",
        "    X = X.reshape((len(X), np.prod(X.shape[1:])))\n",
        "    Y = Y.reshape((len(Y), np.prod(Y.shape[1:])))\n",
        "    return X, Y"
      ],
      "cell_type": "code",
      "execution_count": 0,
      "outputs": []
    },
    {
      "metadata": {
        "id": "K0ns3wIxBATv",
        "colab_type": "code",
        "colab": {
          "autoexec": {
            "startup": false,
            "wait_interval": 0
          }
        }
      },
      "source": [
        "# def BaselineModel():\n",
        "#     inputs = Input(shape=(224 * 224,))\n",
        "#     encoded = Dense(224, activation='relu')(inputs)\n",
        "#     decoded = Dense(224 * 224 * 2, activation='tanh')(encoded)\n",
        "#     return Model(inputs, decoded)\n",
        "  \n",
        "  \n",
        "def BaselineModel():\n",
        "    inputs = Input(shape=(224 * 224,))\n",
        "    encoded = Dense(224, activation='relu')(inputs)\n",
        "    decoded = Dense(224 * 224 * 2, activation='tanh')(encoded)\n",
        "    return Model(inputs, decoded)"
      ],
      "cell_type": "code",
      "execution_count": 0,
      "outputs": []
    },
    {
      "metadata": {
        "id": "dpRaeYbKBATw",
        "colab_type": "code",
        "colab": {
          "autoexec": {
            "startup": false,
            "wait_interval": 0
          },
          "output_extras": [
            {
              "item_id": 9
            },
            {
              "item_id": 10
            }
          ],
          "base_uri": "https://localhost:8080/",
          "height": 340
        },
        "outputId": "941679ca-7042-4b21-dcef-f45f2ba3ea4b",
        "executionInfo": {
          "status": "ok",
          "timestamp": 1512083391341,
          "user_tz": 480,
          "elapsed": 3512,
          "user": {
            "displayName": "Cindy Lin",
            "photoUrl": "//lh6.googleusercontent.com/-QZtXpumhTbo/AAAAAAAAAAI/AAAAAAAAMg8/iIMleBruZm0/s50-c-k-no/photo.jpg",
            "userId": "102365799180351563010"
          }
        }
      },
      "source": [
        "# # Load the training data\n",
        "# images_train = load_data(test_dir) # CHANGE TO train_dir LATER\n",
        "# X_train, Y_train = preprocess_baseline_data(images_train)\n",
        "# # print(\"Loaded X_train \" + str(X_train.shape))\n",
        "# # print(\"Loaded Y_train \" + str(Y_train.shape))\n",
        "\n",
        "\n",
        "# # Load the test data\n",
        "# images_test = load_data(test_dir)\n",
        "# X_test, Y_test = preprocess_baseline_data(images_test)\n",
        "# X_test *= 128\n",
        "# # print(\"Loaded X_test \" + str(X_test.shape))\n",
        "# # print(\"Loaded Y_test \" + str(Y_test.shape))\n",
        "\n",
        "# from keras import optimizers\n",
        "\n",
        "# # Initialize our baseline model, and train it\n",
        "# baselineModel = BaselineModel()\n",
        "# baselineModel.compile(optimizer='sgd', loss='mean_squared_error')\n",
        "# baselineModel.fit(x=X_train, y=Y_train, batch_size=2, epochs=5)\n",
        "\n",
        "# # print('===')\n",
        "\n",
        "# # Evaluate on the test set, and print our loss.\n",
        "# # print baselineModel.evaluate(X_test, Y_test, batch_size=1)\n",
        "# test_output = baselineModel.predict(X_test) # * 128 * 128 * 128\n",
        "\n",
        "# # debug(test_output[0], \"test_output\")   # The (224*224*2)-vector that the baseline predicted from X_test[0]\n",
        "# # debug(Y_test[0], \"Y_test\")             # The ground truth, Y_test[0], corresponding to it.\n",
        "\n",
        "\n",
        "\n",
        "# # Save the results of prediction (in test_output) into the results_dir.\n",
        "# num_test_examples = len(X_test)\n",
        "# for i in range(num_test_examples):\n",
        "#     # The empty array holding our formatted-into-a-picture result\n",
        "#     cur = np.zeros((224, 224, 3))\n",
        "#     cur[:,:,0] = X_test[i].reshape((224, 224))                        # Set the L channel\n",
        "    \n",
        "#     cur[:,:,1:] = test_output[i].reshape((224, 224, 2)) * 128         # Set the ab channels as our prediction\n",
        "#     test_output_rgb = lab2rgb(cur)\n",
        "#     imsave(results_dir + \"img_\" + str(i) + \".png\", test_output_rgb)   # Save it.\n",
        "    \n",
        "#     cur[:,:,1:] = Y_test[i].reshape((224, 224, 2)) * 128              # Set the ab channels as ground truth\n",
        "#     Y_test_rgb = lab2rgb(cur)\n",
        "#     imsave(results_dir + \"img_\" + str(i) + \"_og.png\", Y_test_rgb)     # Save it too.\n",
        "    \n",
        "# from matplotlib import pyplot as plt\n",
        "# # directly show an image from a variable\n",
        "# plt.imshow(Y_test_rgb)\n",
        "# plt.imshow(test_output_rgb)\n",
        "\n",
        "# Load the training data\n",
        "images_train = load_data(test_dir) # CHANGE TO train_dir LATER\n",
        "X_train, Y_train = preprocess_baseline_data(images_train)\n",
        "print(\"Loaded X_train \" + str(X_train.shape))\n",
        "print(\"Loaded Y_train \" + str(Y_train.shape))\n",
        "\n",
        "# Load the test data\n",
        "images_test = load_data(test_dir)\n",
        "X_test, Y_test = preprocess_baseline_data(images_test)\n",
        "print(\"Loaded X_test \" + str(X_test.shape))\n",
        "print(\"Loaded Y_test \" + str(Y_test.shape))\n",
        "\n",
        "# Initialize our baseline model, and train it\n",
        "baselineModel = BaselineModel()\n",
        "baselineModel.compile(optimizer='sgd', loss='mean_squared_error') #param: lr=12345.\n",
        "baselineModel.fit(x=X_train, y=Y_train, batch_size=2, epochs=5)\n",
        "\n",
        "print('===')\n",
        "\n",
        "# Evaluate on the test set, and print our loss.\n",
        "print baselineModel.evaluate(X_test, Y_test, batch_size=1)\n",
        "test_output = baselineModel.predict(X_test) * 128 * 128 * 128\n",
        "\n",
        "# debug(test_output[0], \"test_output\")   # The (224*224*2)-vector that the baseline predicted from X_test[0]\n",
        "# debug(Y_test[0], \"Y_test\")        # The ground truth, Y_test[0], corresponding to it.\n",
        "\n",
        "# Save the results of prediction (in test_output) into the results_dir.\n",
        "num_test_examples = len(X_test)\n",
        "for i in range(num_test_examples):\n",
        "    # The empty array holding our formatted-into-a-picture result\n",
        "    cur = np.zeros((224, 224, 3))\n",
        "    cur[:,:,0] = X_test[i].reshape((224, 224))                        # Set the L channel\n",
        "    cur[:,:,1:] = test_output[i].reshape((224, 224, 2)) * 128         # Set the ab channels as our prediction\n",
        "    imsave(results_dir + \"img_\" + str(i) + \".png\", lab2rgb(cur))      # Save it.\n",
        "    cur[:,:,1:] = Y_test[i].reshape((224, 224, 2)) * 128              # Set the ab channels as ground truth\n",
        "    imsave(results_dir + \"img_\" + str(i) + \"_og.png\", lab2rgb(cur))   # Save it too."
      ],
      "cell_type": "code",
      "execution_count": 45,
      "outputs": [
        {
          "output_type": "stream",
          "text": [
            "Loaded X_train (1, 50176)\n",
            "Loaded Y_train (1, 100352)\n",
            "Loaded X_test (1, 50176)\n",
            "Loaded Y_test (1, 100352)\n",
            "Epoch 1/5\n",
            "1/1 [==============================] - 1s 1s/step - loss: 0.7991\n",
            "Epoch 2/5\n",
            "1/1 [==============================] - 0s 276ms/step - loss: 0.6187\n",
            "Epoch 3/5\n",
            "1/1 [==============================] - 0s 312ms/step - loss: 0.0069\n",
            "Epoch 4/5\n",
            "1/1 [==============================] - 0s 309ms/step - loss: 0.0067\n",
            "Epoch 5/5\n",
            "1/1 [==============================] - 0s 284ms/step - loss: 0.0067\n",
            "===\n",
            "1/1 [==============================] - 0s 103ms/step\n",
            "0.0067324321717\n"
          ],
          "name": "stdout"
        },
        {
          "output_type": "stream",
          "text": [
            "/usr/local/lib/python2.7/dist-packages/skimage/color/colorconv.py:985: UserWarning: Color data out of range: Z < 0 in 15 pixels\n",
            "  warn('Color data out of range: Z < 0 in %s pixels' % invalid[0].size)\n"
          ],
          "name": "stderr"
        }
      ]
    },
    {
      "metadata": {
        "id": "zAj-vtheGDOx",
        "colab_type": "code",
        "colab": {
          "autoexec": {
            "startup": false,
            "wait_interval": 0
          },
          "output_extras": [
            {
              "item_id": 1
            },
            {
              "item_id": 2
            },
            {
              "item_id": 3
            },
            {
              "item_id": 4
            }
          ],
          "base_uri": "https://localhost:8080/",
          "height": 499
        },
        "outputId": "8fe72244-6717-4933-f655-1e380f9aabe4",
        "executionInfo": {
          "status": "ok",
          "timestamp": 1512083393811,
          "user_tz": 480,
          "elapsed": 885,
          "user": {
            "displayName": "Cindy Lin",
            "photoUrl": "//lh6.googleusercontent.com/-QZtXpumhTbo/AAAAAAAAAAI/AAAAAAAAMg8/iIMleBruZm0/s50-c-k-no/photo.jpg",
            "userId": "102365799180351563010"
          }
        }
      },
      "source": [
        "from IPython.display import Image\n",
        "\n",
        "# Display what we have in results_dir.\n",
        "\n",
        "for filename in os.listdir(results_dir):\n",
        "  print filename\n",
        "  display(Image(results_dir + filename))\n"
      ],
      "cell_type": "code",
      "execution_count": 46,
      "outputs": [
        {
          "output_type": "stream",
          "text": [
            "img_0_og.png\n"
          ],
          "name": "stdout"
        },
        {
          "output_type": "display_data",
          "data": {
            "image/png": "[encoded data removed]",
            "text/plain": [
              "<IPython.core.display.Image object>"
            ]
          },
          "metadata": {
            "tags": []
          }
        },
        {
          "output_type": "stream",
          "text": [
            "img_0.png\n"
          ],
          "name": "stdout"
        },
        {
          "output_type": "display_data",
          "data": {
            "image/png": "[encoded data removed]",
            "text/plain": [
              "<IPython.core.display.Image object>"
            ]
          },
          "metadata": {
            "tags": []
          }
        }
      ]
    },
    {
      "metadata": {
        "id": "2b-Qa-sV7kYp",
        "colab_type": "code",
        "colab": {
          "autoexec": {
            "startup": false,
            "wait_interval": 0
          },
          "output_extras": [
            {
              "item_id": 1
            }
          ],
          "base_uri": "https://localhost:8080/",
          "height": 51
        },
        "outputId": "81a85b7e-0878-47ef-a709-81ccc50d1ce8",
        "executionInfo": {
          "status": "ok",
          "timestamp": 1512079002962,
          "user_tz": 480,
          "elapsed": 373,
          "user": {
            "displayName": "Owen Wang",
            "photoUrl": "//lh4.googleusercontent.com/--IeYa_Fhc0s/AAAAAAAAAAI/AAAAAAAABHo/lk0tUPNi5hY/s50-c-k-no/photo.jpg",
            "userId": "113047125933593071636"
          }
        }
      },
      "source": [
        "test_output"
      ],
      "cell_type": "code",
      "execution_count": 67,
      "outputs": [
        {
          "output_type": "execute_result",
          "data": {
            "text/plain": [
              "array([[ 0.00577084,  0.01801091,  0.01894212, ..., -0.0298143 ,\n",
              "         0.03247843, -0.03496474]], dtype=float32)"
            ]
          },
          "metadata": {
            "tags": []
          },
          "execution_count": 67
        }
      ]
    },
    {
      "metadata": {
        "id": "Q2_BlTBf7qB9",
        "colab_type": "code",
        "colab": {
          "autoexec": {
            "startup": false,
            "wait_interval": 0
          }
        }
      },
      "source": [
        ""
      ],
      "cell_type": "code",
      "execution_count": 0,
      "outputs": []
    },
    {
      "metadata": {
        "id": "wOcWNQ9SOZWV",
        "colab_type": "text"
      },
      "source": [
        "## Predict using RainbowNet\n",
        "If you don't want to train, but only use the saved model to predict something, run this cell."
      ],
      "cell_type": "markdown"
    },
    {
      "metadata": {
        "id": "zxW_idLSNl8F",
        "colab_type": "code",
        "colab": {
          "autoexec": {
            "startup": false,
            "wait_interval": 0
          }
        }
      },
      "source": [
        "X_test, Y_test = load_data(test_dir)\n",
        "\n",
        "rainbowModel = load_existing_model()\n",
        "\n",
        "predictions = rainbowModel.evaluate(X_test, Y_test)\n",
        "\n",
        "# Display / output the predictions.\n",
        "# \n"
      ],
      "cell_type": "code",
      "execution_count": 0,
      "outputs": []
    }
  ]
}