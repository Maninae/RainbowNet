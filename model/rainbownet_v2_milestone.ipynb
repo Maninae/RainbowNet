{
  "nbformat": 4,
  "nbformat_minor": 0,
  "metadata": {
    "colab": {
      "name": "rainbownet_v2.ipynb",
      "version": "0.3.2",
      "views": {},
      "default_view": {},
      "provenance": [],
      "collapsed_sections": []
    },
    "kernelspec": {
      "display_name": "Python 2",
      "language": "python",
      "name": "python2"
    }
  },
  "cells": [
    {
      "metadata": {
        "id": "2E9s0UNnIZc8",
        "colab_type": "text"
      },
      "source": [
        "## Imports, installations, and constants\n",
        "- Python imports\n",
        "- defining directories and constants"
      ],
      "cell_type": "markdown"
    },
    {
      "metadata": {
        "id": "5hTe35ToN7tF",
        "colab_type": "code",
        "colab": {
          "autoexec": {
            "startup": false,
            "wait_interval": 0
          }
        }
      },
      "source": [
        "# Sources\n",
        "# --------\n",
        "# Emil Wallner blog post and code on Floydhub for image colorization\n",
        "# \"Deep Koalarization\": https://github.com/baldassarreFe/deep-koalarization\n",
        "# \"Colorful Image Colorization\": https://github.com/richzhang/colorization\n",
        "! rm -rf gif_train\n",
        "! rm -rf metadata\n",
        "! rm -rf model_params"
      ],
      "cell_type": "code",
      "execution_count": 0,
      "outputs": []
    },
    {
      "metadata": {
        "id": "-8ZHw3jX6m-g",
        "colab_type": "code",
        "colab": {
          "autoexec": {
            "startup": false,
            "wait_interval": 0
          },
          "output_extras": [
            {
              "item_id": 2
            }
          ],
          "base_uri": "https://localhost:8080/",
          "height": 153
        },
        "outputId": "cb9cddff-7fa2-4253-96f9-2f63db51e61f",
        "executionInfo": {
          "status": "ok",
          "timestamp": 1511091251664,
          "user_tz": 480,
          "elapsed": 2895,
          "user": {
            "displayName": "Owen Wang",
            "photoUrl": "//lh4.googleusercontent.com/--IeYa_Fhc0s/AAAAAAAAAAI/AAAAAAAABHo/lk0tUPNi5hY/s50-c-k-no/photo.jpg",
            "userId": "113047125933593071636"
          }
        }
      },
      "source": [
        "# Sometimes, some funkiness comes up because the machine running this notebook\n",
        "# doesn't have Keras, h5py, etc. We install those dependencies here.\n",
        "! pip install keras\n",
        "! pip install h5py"
      ],
      "cell_type": "code",
      "execution_count": 3,
      "outputs": [
        {
          "output_type": "stream",
          "text": [
            "Requirement already satisfied: keras in /usr/local/lib/python2.7/dist-packages\r\n",
            "Requirement already satisfied: six>=1.9.0 in /usr/local/lib/python2.7/dist-packages (from keras)\r\n",
            "Requirement already satisfied: pyyaml in /usr/local/lib/python2.7/dist-packages (from keras)\r\n",
            "Requirement already satisfied: numpy>=1.9.1 in /usr/local/lib/python2.7/dist-packages (from keras)\r\n",
            "Requirement already satisfied: scipy>=0.14 in /usr/local/lib/python2.7/dist-packages (from keras)\n",
            "Requirement already satisfied: h5py in /usr/local/lib/python2.7/dist-packages\n",
            "Requirement already satisfied: numpy>=1.7 in /usr/local/lib/python2.7/dist-packages (from h5py)\n",
            "Requirement already satisfied: six in /usr/local/lib/python2.7/dist-packages (from h5py)\n"
          ],
          "name": "stdout"
        }
      ]
    },
    {
      "metadata": {
        "id": "ljuCQQRi_0A_",
        "colab_type": "code",
        "colab": {
          "autoexec": {
            "startup": false,
            "wait_interval": 0
          },
          "output_extras": [
            {
              "item_id": 1
            }
          ],
          "base_uri": "https://localhost:8080/",
          "height": 34
        },
        "outputId": "9e753deb-41f1-49b9-90b3-fea0e01d85f8",
        "executionInfo": {
          "status": "ok",
          "timestamp": 1511091253568,
          "user_tz": 480,
          "elapsed": 1330,
          "user": {
            "displayName": "Owen Wang",
            "photoUrl": "//lh4.googleusercontent.com/--IeYa_Fhc0s/AAAAAAAAAAI/AAAAAAAABHo/lk0tUPNi5hY/s50-c-k-no/photo.jpg",
            "userId": "113047125933593071636"
          }
        }
      },
      "source": [
        "import numpy as np\n",
        "import os\n",
        "import random\n",
        "import sys\n",
        "import tensorflow as tf\n",
        "\n",
        "from skimage.color import rgb2lab, lab2rgb, rgb2gray, gray2rgb\n",
        "from skimage.transform import resize\n",
        "from skimage.io import imsave\n",
        "\n",
        "import matplotlib\n",
        "# This line was for some of our machines; some edge case\n",
        "# matplotlib.use('TkAgg')\n",
        "import matplotlib.pyplot as plt\n",
        "import matplotlib.patches as patches\n",
        "import pickle\n",
        "\n",
        "import keras\n",
        "import keras.backend as K\n",
        "from keras.activations import softmax\n",
        "from keras.layers.core import RepeatVector\n",
        "# Not sure we need all of these\n",
        "from keras.layers import Conv2D, UpSampling2D, InputLayer, Conv2DTranspose, Input, Reshape, merge, concatenate, Activation, Dense, Dropout, Flatten\n",
        "from keras.layers.normalization import BatchNormalization\n",
        "from keras.losses import categorical_crossentropy\n",
        "from keras.metrics import top_k_categorical_accuracy\n",
        "from keras.models import Model, Sequential\n",
        "from keras.preprocessing.image import array_to_img, img_to_array, load_img\n",
        "# from keras.preprocessing.image import ImageDataGenerator\n",
        "from keras.utils.np_utils import to_categorical\n",
        "\n",
        "from keras.applications.inception_resnet_v2 import InceptionResNetV2\n",
        "from keras.applications.inception_resnet_v2 import preprocess_input"
      ],
      "cell_type": "code",
      "execution_count": 4,
      "outputs": [
        {
          "output_type": "stream",
          "text": [
            "Using TensorFlow backend.\n"
          ],
          "name": "stderr"
        }
      ]
    },
    {
      "metadata": {
        "id": "eBcisdtLBovS",
        "colab_type": "code",
        "colab": {
          "autoexec": {
            "startup": false,
            "wait_interval": 0
          },
          "output_extras": [
            {
              "item_id": 1
            }
          ],
          "base_uri": "https://localhost:8080/",
          "height": 51
        },
        "outputId": "9b35b289-f88a-4852-e060-d4f05d3b6623",
        "executionInfo": {
          "status": "ok",
          "timestamp": 1511091254932,
          "user_tz": 480,
          "elapsed": 453,
          "user": {
            "displayName": "Owen Wang",
            "photoUrl": "//lh4.googleusercontent.com/--IeYa_Fhc0s/AAAAAAAAAAI/AAAAAAAABHo/lk0tUPNi5hY/s50-c-k-no/photo.jpg",
            "userId": "113047125933593071636"
          }
        }
      },
      "source": [
        "# Paths and utilities\n",
        "# -------------------\n",
        "# Assuming this notebook's directory (<repository root>/model) is root.\n",
        "data_dir = \"../data/\"\n",
        "train_dir = data_dir + \"train/\"\n",
        "test_dir = data_dir + \"test/\"\n",
        "results_dir = \"../results/\"\n",
        "gif_train_dir = data_dir + \"gif_train/\"\n",
        "gif_image_dir = data_dir + \"gif_train_image/\"\n",
        "\n",
        "model_chkpt = \"model_params/\"\n",
        "model_metadata_dir = \"metadata/\"\n",
        "model_name = \"rainbownet\"\n",
        "\n",
        "if not os.path.isdir(model_metadata_dir):\n",
        "  print(\"Didn't find %s. Creating it now\" % model_metadata_dir)\n",
        "  os.makedirs(model_metadata_dir)\n",
        "if not os.path.isdir(model_chkpt):\n",
        "  print(\"Didn't find %s. Creating it now\" % model_chkpt)\n",
        "  os.makedirs(model_chkpt)\n",
        "if not os.path.isdir(train_dir):\n",
        "  print(\"Didn't find %s. Creating it now\" % train_dir)\n",
        "  os.makedirs(train_dir)\n",
        "if not os.path.isdir(test_dir):\n",
        "  print(\"Didn't find %s. Creating it now\" % test_dir)\n",
        "  os.makedirs(test_dir)\n",
        "if not os.path.isdir(results_dir):\n",
        "  print(\"Didn't find %s. Creating it now\" % results_dir)\n",
        "  os.makedirs(results_dir)\n",
        "if not os.path.isdir(gif_train_dir):\n",
        "  print(\"Didn't find %s. Creating it now\" % gif_train_dir)\n",
        "  os.makedirs(gif_train_dir)\n",
        "if not os.path.isdir(gif_image_dir):\n",
        "  print(\"Didn't find %s. Creating it now\" % gif_image_dir)\n",
        "  os.makedirs(gif_image_dir)\n",
        "\n",
        "\n",
        "# Adjustable constants\n",
        "BATCH_SIZE = 16\n",
        "N_EPOCHS = 1\n",
        "GRID_SIZE = 8\n",
        "NUM_TOTAL_BUCKETS = (256//GRID_SIZE)**2\n",
        "# NUM_VALID_BUCKETS will be updated dynamically when computing buckets, \n",
        "#   if there is an inconsistency.\n",
        "NUM_VALID_BUCKETS = 394 # with GRID_SIZE=8. \n",
        "BUCKET_ID_TO_INDEX = None\n",
        "BUCKET_INDEX_TO_ID = None\n",
        "\n",
        "# Python 3 peculiarities\n",
        "if sys.version_info[0] == 3:\n",
        "    xrange = range"
      ],
      "cell_type": "code",
      "execution_count": 5,
      "outputs": [
        {
          "output_type": "stream",
          "text": [
            "Didn't find metadata/. Creating it now\n",
            "Didn't find model_params/. Creating it now\n"
          ],
          "name": "stdout"
        }
      ]
    },
    {
      "metadata": {
        "id": "p-1Nz6YWPcpW",
        "colab_type": "text"
      },
      "source": [
        "## Utility Functions. Stuff to help make this notebook work on remote machines, etc. during our development process.\n",
        "**NOT NECESSARY** to run, \n",
        "\n",
        "unless you want to download a gif of a flying puppy for training data.\n",
        "\n",
        "Not the meat of the actual model/algorithms. \n",
        "- Downloading files from Google Drive\n",
        "- Splitting GIF's into frames\n",
        "- Splitting GIF's from Google Drive into frames (wowowowow)"
      ],
      "cell_type": "markdown"
    },
    {
      "metadata": {
        "id": "UCXrwQwkCPBT",
        "colab_type": "text"
      },
      "source": [
        "### Downloading a file from Google Drive"
      ],
      "cell_type": "markdown"
    },
    {
      "metadata": {
        "id": "-HKFnv97OszO",
        "colab_type": "code",
        "colab": {
          "autoexec": {
            "startup": false,
            "wait_interval": 0
          }
        }
      },
      "source": [
        "# Copied from https://stackoverflow.com/questions/25010369/wget-curl-large-file-from-google-drive\n",
        "\n",
        "import requests\n",
        "\n",
        "def download_file_from_google_drive(id, destination):\n",
        "    def get_confirm_token(response):\n",
        "        for key, value in response.cookies.items():\n",
        "            if key.startswith('download_warning'):\n",
        "                return value\n",
        "\n",
        "        return None\n",
        "\n",
        "    def save_response_content(response, destination):\n",
        "        CHUNK_SIZE = 32768\n",
        "        # DANG i havent seen \"chunk\" since 107\n",
        "        # good times\n",
        "\n",
        "        with open(destination, \"wb\") as f:\n",
        "            for chunk in response.iter_content(CHUNK_SIZE):\n",
        "                if chunk: # filter out keep-alive new chunks\n",
        "                    f.write(chunk)\n",
        "\n",
        "    URL = \"https://docs.google.com/uc?export=download\"\n",
        "\n",
        "    session = requests.Session()\n",
        "\n",
        "    response = session.get(URL, params = { 'id' : id }, stream = True)\n",
        "    token = get_confirm_token(response)\n",
        "\n",
        "    if token:\n",
        "        params = { 'id' : id, 'confirm' : token }\n",
        "        response = session.get(URL, params = params, stream = True)\n",
        "\n",
        "    save_response_content(response, destination)    \n",
        "\n",
        "# example:\n",
        "# download_file_from_google_drive(\"1H5aWTvlodzLA_hwm68BHtJbrvuKYt0hh\", \"test.jpg\")"
      ],
      "cell_type": "code",
      "execution_count": 0,
      "outputs": []
    },
    {
      "metadata": {
        "id": "S-INW-ITPvt7",
        "colab_type": "code",
        "colab": {
          "autoexec": {
            "startup": false,
            "wait_interval": 0
          }
        }
      },
      "source": [
        "from PIL import Image\n",
        "import sys\n",
        "import os\n",
        "import urllib\n",
        "\n",
        "SAVE_DIR = train_dir\n",
        "\n",
        "def process_gif(infile):\n",
        "    try:\n",
        "        image = Image.open(infile)\n",
        "    except IOError:\n",
        "        print \"Can't load\", infile\n",
        "        sys.exit(1)\n",
        "    palette = image.getpalette()\n",
        "    name = os.path.split(infile)[-1].split('.')[0]\n",
        "\n",
        "    # save_dir = os.path.join(SAVE_DIR, name)\n",
        "    save_dir = train_dir # temp, to put data in train_dir root instead\n",
        "    if not os.path.exists(save_dir):\n",
        "        os.makedirs(save_dir)\n",
        "\n",
        "    try:\n",
        "        i = 0\n",
        "        while True:\n",
        "            image.putpalette(palette)\n",
        "            new_image = Image.new(\"RGB\", image.size)\n",
        "            new_image.paste(image)\n",
        "            new_image.save(os.path.join(save_dir, str(i) + \"-\" + name + '.jpg'))\n",
        "\n",
        "            i += 1\n",
        "            image.seek(image.tell() + 1)\n",
        "\n",
        "    except EOFError:\n",
        "        pass # end of sequence\n",
        "    \n",
        "    print(\"Finished processing gif\", infile)"
      ],
      "cell_type": "code",
      "execution_count": 0,
      "outputs": []
    },
    {
      "metadata": {
        "id": "2uENXKI5QDR4",
        "colab_type": "code",
        "colab": {
          "autoexec": {
            "startup": false,
            "wait_interval": 0
          },
          "output_extras": [
            {
              "item_id": 1
            }
          ],
          "base_uri": "https://localhost:8080/",
          "height": 34
        },
        "outputId": "a1f7bd96-a9af-4308-ab5b-5aeeb7b23ee3",
        "executionInfo": {
          "status": "ok",
          "timestamp": 1511091263584,
          "user_tz": 480,
          "elapsed": 2385,
          "user": {
            "displayName": "Owen Wang",
            "photoUrl": "//lh4.googleusercontent.com/--IeYa_Fhc0s/AAAAAAAAAAI/AAAAAAAABHo/lk0tUPNi5hY/s50-c-k-no/photo.jpg",
            "userId": "113047125933593071636"
          }
        }
      },
      "source": [
        "\"\"\"\n",
        "Download a gif of a flying puppy and split it into frames\n",
        "Run this to populate gif_train_dir with images as a toy example.\n",
        "\"\"\"\n",
        "\n",
        "download_file_from_google_drive(\"1ppGwWuu5J3ecEdwXJbBXzg4FOktbI1Cv\", gif_train_dir + \"gif1.gif\")\n",
        "process_gif(gif_train_dir + \"gif1.gif\")"
      ],
      "cell_type": "code",
      "execution_count": 8,
      "outputs": [
        {
          "output_type": "stream",
          "text": [
            "('Finished processing gif', '../data/gif_train/gif1.gif')\n"
          ],
          "name": "stdout"
        }
      ]
    },
    {
      "metadata": {
        "id": "3YXYVy5aT4aF",
        "colab_type": "code",
        "colab": {
          "autoexec": {
            "startup": false,
            "wait_interval": 0
          },
          "output_extras": [
            {
              "item_id": 4
            }
          ],
          "base_uri": "https://localhost:8080/",
          "height": 204
        },
        "outputId": "8f45db18-25bb-4a19-a8ee-19728a15f1f1",
        "executionInfo": {
          "status": "ok",
          "timestamp": 1511091266333,
          "user_tz": 480,
          "elapsed": 2530,
          "user": {
            "displayName": "Owen Wang",
            "photoUrl": "//lh4.googleusercontent.com/--IeYa_Fhc0s/AAAAAAAAAAI/AAAAAAAABHo/lk0tUPNi5hY/s50-c-k-no/photo.jpg",
            "userId": "113047125933593071636"
          }
        }
      },
      "source": [
        "# ! mv /data/train/0-gif1.png /data/test/0-gif1.png\n",
        "# ! mv /data/train/1-gif1.png /data/test/1-gif1.png\n",
        "# ! mv /data/train/2-gif1.png /data/test/2-gif1.png\n",
        "# ! mv /data/train/3-gif1.png /data/test/3-gif1.png\n",
        "# ! mv /data/train/4-gif1.png /data/test/4-gif1.png\n",
        "# ! mkdir /results\n",
        "\n",
        "\n",
        "! ls ../data/test\n",
        "! echo --------------------\n",
        "! ls ../data/train\n",
        "! echo --------------------\n",
        "! ls ../results"
      ],
      "cell_type": "code",
      "execution_count": 9,
      "outputs": [
        {
          "output_type": "stream",
          "text": [
            "0-gif1.jpg\n",
            "--------------------\n",
            "0-gif1.jpg   17-gif1.jpg  24-gif1.jpg  31-gif1.jpg  39-gif1.jpg  5-gif1.jpg\n",
            "10-gif1.jpg  18-gif1.jpg  25-gif1.jpg  32-gif1.jpg  3-gif1.jpg\t 6-gif1.jpg\n",
            "11-gif1.jpg  19-gif1.jpg  26-gif1.jpg  33-gif1.jpg  40-gif1.jpg  7-gif1.jpg\n",
            "12-gif1.jpg  1-gif1.jpg   27-gif1.jpg  34-gif1.jpg  41-gif1.jpg  8-gif1.jpg\n",
            "13-gif1.jpg  20-gif1.jpg  28-gif1.jpg  35-gif1.jpg  42-gif1.jpg  9-gif1.jpg\n",
            "14-gif1.jpg  21-gif1.jpg  29-gif1.jpg  36-gif1.jpg  43-gif1.jpg\n",
            "15-gif1.jpg  22-gif1.jpg  2-gif1.jpg   37-gif1.jpg  44-gif1.jpg\n",
            "16-gif1.jpg  23-gif1.jpg  30-gif1.jpg  38-gif1.jpg  4-gif1.jpg\n",
            "--------------------\n"
          ],
          "name": "stdout"
        }
      ]
    },
    {
      "metadata": {
        "id": "ItR4wpEEQ4dY",
        "colab_type": "code",
        "colab": {
          "autoexec": {
            "startup": false,
            "wait_interval": 0
          },
          "output_extras": [
            {
              "item_id": 1
            }
          ],
          "base_uri": "https://localhost:8080/",
          "height": 470
        },
        "outputId": "75a65030-989d-4675-e395-a178193da11e",
        "executionInfo": {
          "status": "ok",
          "timestamp": 1511091267239,
          "user_tz": 480,
          "elapsed": 742,
          "user": {
            "displayName": "Owen Wang",
            "photoUrl": "//lh4.googleusercontent.com/--IeYa_Fhc0s/AAAAAAAAAAI/AAAAAAAABHo/lk0tUPNi5hY/s50-c-k-no/photo.jpg",
            "userId": "113047125933593071636"
          }
        }
      },
      "source": [
        "# Get something into test_dir = \"../data/test\".\n",
        "\n",
        "! mv ../data/train/0-gif1.jpg ../data/test/0-gif1.jpg\n",
        "from IPython.display import Image \n",
        "\n",
        "\n",
        "image1 = os.listdir(train_dir)[23]\n",
        "Image(train_dir + image1)"
      ],
      "cell_type": "code",
      "execution_count": 10,
      "outputs": [
        {
          "output_type": "execute_result",
          "data": {
            "image/jpeg": "[encoded data removed]",
            "text/plain": [
              "<IPython.core.display.Image object>"
            ]
          },
          "metadata": {
            "tags": []
          },
          "execution_count": 10
        }
      ]
    },
    {
      "metadata": {
        "id": "TjbsQR3aK_cU",
        "colab_type": "text"
      },
      "source": [
        "## Helper Functions\n",
        "Stuff we're using in the other functions below."
      ],
      "cell_type": "markdown"
    },
    {
      "metadata": {
        "id": "9Ha_1ZZqLFXy",
        "colab_type": "code",
        "colab": {
          "autoexec": {
            "startup": false,
            "wait_interval": 0
          }
        }
      },
      "source": [
        "def resize_images(images, shape):\n",
        "  \"\"\" Does exactly what it sounds like it does.\n",
        "      |shape|: a 3-tuple of the dimensions to resize to. \n",
        "               (H, W, 3) usually.\n",
        "  \"\"\"\n",
        "  resized = []\n",
        "  for i in images:\n",
        "    im = resize(i, shape, mode='constant')\n",
        "    resized.append(im)\n",
        "  resized = np.array(resized)\n",
        "  return resized"
      ],
      "cell_type": "code",
      "execution_count": 0,
      "outputs": []
    },
    {
      "metadata": {
        "id": "XGYCzvWPBATO",
        "colab_type": "code",
        "colab": {
          "autoexec": {
            "startup": false,
            "wait_interval": 0
          }
        }
      },
      "source": [
        "def debug(obj, name, plimit=500):\n",
        "    typ = type(obj)\n",
        "    typstr = str(typ)\n",
        "    \n",
        "    # for debugging ndarray shape (large use case)\n",
        "    shape = \"(N/A)\"\n",
        "    if typ == type(np.array([0])):\n",
        "      shape = obj.shape\n",
        "    else:\n",
        "      try:\n",
        "        shape = \"len=\" + str(len(obj))\n",
        "      except TypeError:\n",
        "        pass\n",
        "    shapestr = str(shape)\n",
        "\n",
        "    objstr = str(obj)\n",
        "    objout = objstr if len(objstr) < plimit else objstr[:plimit] + \"\\n[... %s output truncated]\" % name\n",
        "    \n",
        "    outputs = [typstr, shapestr, name + \":\\n\", objout]\n",
        "    print \" \".join(outputs)"
      ],
      "cell_type": "code",
      "execution_count": 0,
      "outputs": []
    },
    {
      "metadata": {
        "id": "MfgjGUVkkqEx",
        "colab_type": "text"
      },
      "source": [
        "## **The Inception ResNet Fusion**\n",
        "\n",
        "We're going to be using Google's Inception ResNet v2 to augment our CNN. This model has been highly trained on millions of examples, and can detect features that would be useful in colorizing our test images. The fusion of IRNet features with our CNN will come later in RainbowNetModel(). For now, these functions load the model and set up predictions.\n",
        "\n"
      ],
      "cell_type": "markdown"
    },
    {
      "metadata": {
        "id": "mRJoYEaRAjkl",
        "colab_type": "code",
        "colab": {
          "autoexec": {
            "startup": false,
            "wait_interval": 0
          }
        }
      },
      "source": [
        "def load_inception_net(weights_path):\n",
        "  inception = InceptionResNetV2(weights=None, include_top=True)\n",
        "  inception.load_weights(weights_path)\n",
        "  inception.graph = tf.get_default_graph()\n",
        "  return inception"
      ],
      "cell_type": "code",
      "execution_count": 0,
      "outputs": []
    },
    {
      "metadata": {
        "id": "1fh3CRW0EY-p",
        "colab_type": "code",
        "colab": {
          "autoexec": {
            "startup": false,
            "wait_interval": 0
          }
        }
      },
      "source": [
        "def create_inception_embedding(grayscaled_rgb):\n",
        "  \"\"\" One forward pass through the InceptionResNet for one image,\n",
        "      to give said image a 1000-vector embedding of it's features.\n",
        "      \n",
        "      |grayscaled_rgb|: the images we are embedding in grayscale. \n",
        "      \n",
        "      :return: (None, 1000) vector.\n",
        "  \"\"\"\n",
        "  # Resize all the images to (299, 299, 3).\n",
        "  grayscaled_rgb_resized = resize_images(grayscaled_rgb, (299, 299, 3))\n",
        "\n",
        "  # preprocessing for the Inception resnet\n",
        "  grayscaled_rgb_resized = preprocess_input(grayscaled_rgb_resized)\n",
        "\n",
        "  # Predict.\n",
        "  with inception.graph.as_default():\n",
        "    embed = inception.predict(grayscaled_rgb_resized)\n",
        "  \n",
        "  return embed"
      ],
      "cell_type": "code",
      "execution_count": 0,
      "outputs": []
    },
    {
      "metadata": {
        "id": "ISwY0HA1lsh2",
        "colab_type": "text"
      },
      "source": [
        "## Finding our color buckets\n",
        "This is how we discretized the *ab* channels' color space into buckets for our model.\n"
      ],
      "cell_type": "markdown"
    },
    {
      "metadata": {
        "id": "WyvXuOITeoT0",
        "colab_type": "code",
        "colab": {
          "autoexec": {
            "startup": false,
            "wait_interval": 0
          }
        }
      },
      "source": [
        "def get_bucket_id(ab_pixel):\n",
        "    \"\"\" Given an ab coordinate, find the id of the bucket of\n",
        "        that it belongs to.\n",
        "        \n",
        "        |ab_pixel|: np.array of shape (2,).\n",
        "    \"\"\"\n",
        "    a = int(ab_pixel[0])\n",
        "    b = int(ab_pixel[1])\n",
        "    #print(\"We have a,b=%s\" % (str((a,b))))\n",
        "    \n",
        "    bucket_row = (a + 128) // GRID_SIZE\n",
        "    bucket_col = (b + 128) // GRID_SIZE\n",
        "    bucket_id = bucket_row * (256 // GRID_SIZE) + bucket_col\n",
        "    \n",
        "    return bucket_id\n",
        "  \n",
        "def discretize_ab_space():\n",
        "    # initialize a blank array of (# buckets, 2).\n",
        "    space = np.zeros(((256//GRID_SIZE)**2, 2))\n",
        "    \n",
        "    bucket_index = 0\n",
        "    for a in xrange(-128, 128, GRID_SIZE):\n",
        "        for b in xrange(-128, 128, GRID_SIZE):\n",
        "            a_mid = float(a + GRID_SIZE / 2)\n",
        "            b_mid = float(b + GRID_SIZE / 2)\n",
        "            space[bucket_index] = a_mid, b_mid\n",
        "            bucket_index += 1\n",
        "\n",
        "    return space\n",
        "\n",
        "def compute_bucket_maps(bucket2ab_map=None, ab2bucket_map=None):\n",
        "    global BUCKET_ID_TO_INDEX\n",
        "    global BUCKET_INDEX_TO_ID\n",
        "    \n",
        "    # 1) Get our monte carlo ab color space.\n",
        "    # Note: skimage.color's rgb2lab takes in RGB values normalized to [0,1].\n",
        "    # Step sizes of 3 for R,G,B is granular enough for our purposes,\n",
        "    #   in sampling RGB space.\n",
        "    all_rgb_normed = [[r/255., g/255., b/255.] for r in xrange(0,256) \\\n",
        "                                               for g in xrange(0,256) \\\n",
        "                                               for b in xrange(0,256)]\n",
        "    print(\"compute_bucket_maps(): finished getting all_rgb_normed\")\n",
        "    \n",
        "    NUM_RGB_SAMPLES = len(all_rgb_normed)\n",
        "    all_rgb_normed = np.array(all_rgb_normed)\n",
        "    all_rgb_normed = all_rgb_normed[:, np.newaxis, :]        # (#rgb colors, 1, 3=rgb)\n",
        "    assert all_rgb_normed.shape == (NUM_RGB_SAMPLES, 1, 3) #  new axis because skimage demands it.\n",
        "    ab_colors = rgb2lab(all_rgb_normed)                    # (#rgb colors, 1, 3=lab)\n",
        "    ab_colors = np.squeeze(ab_colors)[:,1:]                # (#rgb colors, 2=ab)\n",
        "    assert ab_colors.shape == (NUM_RGB_SAMPLES, 2)\n",
        "    \n",
        "    # 2) Get our buckets. \n",
        "    # ab_buckets[bucket #] = (a,b) coord for that bucket, even if it isn't a valid RGB.\n",
        "    ab_buckets_centers = discretize_ab_space()             # (#buckets, 2=ab)\n",
        "    assert ab_buckets_centers.shape == (NUM_TOTAL_BUCKETS, 2)\n",
        "    \n",
        "    # 3) Now we calculate the closest bucket for each ab color.\n",
        "    closest = [get_bucket_id(color) for color in ab_colors]\n",
        "    # closest = [np.argmin(np.linalg.norm(ab_buckets_centers - color, axis=1)) for color in ab_colors]\n",
        "    valid_buckets = set(closest)\n",
        "    \n",
        "    # aside: for interpreting the softmax in the rainbowModel later, we need to know which neuron predicts which bucket\n",
        "    BUCKET_ID_TO_INDEX = {bucket_id : i for i, bucket_id in enumerate(list(valid_buckets))}\n",
        "    BUCKET_INDEX_TO_ID = {i : bucket_id for i, bucket_id in enumerate(list(valid_buckets))}\n",
        "    debug(BUCKET_ID_TO_INDEX, \"id to index\", plimit=2000)\n",
        "    debug(BUCKET_INDEX_TO_ID, \"index to id\", plimit=2000)\n",
        "    \n",
        "    # 4) Create the maps.\n",
        "    bucket2ab_map = {bucket : tuple(ab_buckets_centers[bucket]) for bucket in valid_buckets}\n",
        "    # Assert there are no repeats in the map\n",
        "    assert len(bucket2ab_map.values()) == len(set(bucket2ab_map.values()))\n",
        "    ab2bucket_map = {bucket2ab_map[bucket] : bucket for bucket in bucket2ab_map}\n",
        "    assert len(ab2bucket_map.values()) == len(set(ab2bucket_map.values()))\n",
        "    \n",
        "    print (\"There are %d final buckets.\" % len(bucket2ab_map))\n",
        "    print (\"There are %d final colors.\" % len(ab2bucket_map))\n",
        "    \n",
        "    return bucket2ab_map, ab2bucket_map\n",
        "\n",
        "def plot_mapping(bucket2ab_map):\n",
        "    fig = plt.figure()\n",
        "    ax = fig.add_subplot(111, aspect='equal')\n",
        "    for bucket in bucket2ab_map:\n",
        "        a_mid = bucket2ab_map[bucket][0]\n",
        "        a_low = a_mid - GRID_SIZE / 2\n",
        "        b_mid = bucket2ab_map[bucket][1]\n",
        "        b_low = b_mid - GRID_SIZE / 2\n",
        "\n",
        "        lab_pixel = np.array([50., a_mid, b_mid])\n",
        "        lab_pixel = np.reshape(lab_pixel, (1, 1, 3))\n",
        "        rgb = tuple(lab2rgb(lab_pixel)[0][0])\n",
        "\n",
        "        ax.add_patch(\n",
        "            patches.Rectangle(\n",
        "                (b_low, -a_low), \n",
        "                GRID_SIZE, \n",
        "                GRID_SIZE, \n",
        "                facecolor=rgb\n",
        "            )\n",
        "        )\n",
        "\n",
        "    plt.xlim([-128, 128])\n",
        "    plt.ylim([-128, 128])\n",
        "    plt.show()"
      ],
      "cell_type": "code",
      "execution_count": 0,
      "outputs": []
    },
    {
      "metadata": {
        "id": "7AiWqCq7k8YI",
        "colab_type": "code",
        "colab": {
          "autoexec": {
            "startup": false,
            "wait_interval": 0
          }
        }
      },
      "source": [
        "# Un-comment and run this if you want to remove existing pickles, and recompute the maps.\n",
        "! rm -f metadata/*.pkl"
      ],
      "cell_type": "code",
      "execution_count": 0,
      "outputs": []
    },
    {
      "metadata": {
        "id": "llvS3JwH-8Lo",
        "colab_type": "code",
        "colab": {
          "autoexec": {
            "startup": false,
            "wait_interval": 0
          },
          "output_extras": [
            {
              "item_id": 2
            },
            {
              "item_id": 3
            },
            {
              "item_id": 4
            }
          ],
          "base_uri": "https://localhost:8080/",
          "height": 554
        },
        "outputId": "d1c1f4b2-73c8-4f11-e22e-0669f9e3b483",
        "executionInfo": {
          "status": "ok",
          "timestamp": 1511091364258,
          "user_tz": 480,
          "elapsed": 57594,
          "user": {
            "displayName": "Owen Wang",
            "photoUrl": "//lh4.googleusercontent.com/--IeYa_Fhc0s/AAAAAAAAAAI/AAAAAAAABHo/lk0tUPNi5hY/s50-c-k-no/photo.jpg",
            "userId": "113047125933593071636"
          }
        }
      },
      "source": [
        "\"\"\"\n",
        "The script for loading our bucket maps.\n",
        "If there are .pkl's of maps we've stored from a previous computation,\n",
        "    load those.\n",
        "Otherwise, run compute_bucket_maps() to get them, and dump into\n",
        "    pickles for the future.\n",
        "\"\"\"\n",
        "\n",
        "# To open: `map = pickle.load(open(<filename>, 'r'))`\n",
        "BUCKET2AB = model_metadata_dir + 'bucket2ab_map.pkl'\n",
        "AB2BUCKET = model_metadata_dir + 'ab2bucket_map.pkl'\n",
        "\n",
        "bucket2ab_map = None\n",
        "ab2bucket_map = None\n",
        "\n",
        "# No pickles found. Compute the maps.\n",
        "if not os.path.isfile(BUCKET2AB) or not os.path.isfile(AB2BUCKET):\n",
        "  bucket2ab_map, ab2bucket_map = compute_bucket_maps()\n",
        "  \n",
        "  pickle.dump(bucket2ab_map, open(BUCKET2AB, 'wb'))\n",
        "  pickle.dump(ab2bucket_map, open(AB2BUCKET, 'wb'))\n",
        "  \n",
        "# We found the pickles! Load them.\n",
        "else:\n",
        "  print(\"Loading buckets from pickle.\")\n",
        "  bucket2ab_map = pickle.load(open(BUCKET2AB, 'rb'))\n",
        "  ab2bucket_map = pickle.load(open(AB2BUCKET, 'rb'))\n",
        "\n",
        "plot_mapping(bucket2ab_map)\n",
        "# --------------------------\n",
        "\n",
        "print(\"We have in the map %d buckets.\" % len(bucket2ab_map))\n",
        "if NUM_VALID_BUCKETS != len(bucket2ab_map):\n",
        "  print(\"NUM_VALID_BUCKETS=%s does not match the number of buckets we computed.\"\n",
        "         % str(NUM_VALID_BUCKETS))\n",
        "  print(\"Setting NUM_VALID_BUCKETS=%d\" % len(bucket2ab_map))\n",
        "  NUM_VALID_BUCKETS = len(bucket2ab_map)\n",
        "\n",
        "print(\"Buckets loaded successfully!\")\n",
        "\n",
        "# bucket2ab_map: map of bucket # to (a, b)\n",
        "# ab2bucket_map: map of (a, b) to bucket #\n",
        "# use get_bucket(lab_pixel, ab2bucketmap) to get corresponding (a, b)"
      ],
      "cell_type": "code",
      "execution_count": 17,
      "outputs": [
        {
          "output_type": "stream",
          "text": [
            "compute_bucket_maps(): finished getting all_rgb_normed\n",
            "<type 'dict'> len=394 id to index:\n",
            " {183: 0, 184: 1, 185: 2, 186: 3, 212: 4, 213: 5, 214: 6, 215: 7, 216: 8, 217: 9, 218: 10, 242: 11, 243: 12, 244: 13, 245: 14, 246: 15, 247: 16, 248: 17, 249: 18, 250: 19, 272: 20, 273: 21, 274: 22, 275: 23, 276: 24, 277: 25, 278: 26, 279: 27, 280: 28, 281: 29, 282: 30, 302: 31, 303: 32, 304: 33, 305: 34, 306: 35, 307: 36, 308: 37, 309: 38, 310: 39, 311: 40, 312: 41, 313: 42, 314: 43, 315: 44, 333: 45, 334: 46, 335: 47, 336: 48, 337: 49, 338: 50, 339: 51, 340: 52, 341: 53, 342: 54, 343: 55, 344: 56, 345: 57, 346: 58, 347: 59, 364: 60, 365: 61, 366: 62, 367: 63, 368: 64, 369: 65, 370: 66, 371: 67, 372: 68, 373: 69, 374: 70, 375: 71, 376: 72, 377: 73, 378: 74, 379: 75, 395: 76, 396: 77, 397: 78, 398: 79, 399: 80, 400: 81, 401: 82, 402: 83, 403: 84, 404: 85, 405: 86, 406: 87, 407: 88, 408: 89, 409: 90, 410: 91, 411: 92, 426: 93, 427: 94, 428: 95, 429: 96, 430: 97, 431: 98, 432: 99, 433: 100, 434: 101, 435: 102, 436: 103, 437: 104, 438: 105, 439: 106, 440: 107, 441: 108, 442: 109, 443: 110, 457: 111, 458: 112, 459: 113, 460: 114, 461: 115, 462: 116, 463: 117, 464: 118, 465: 119, 466: 120, 467: 121, 468: 122, 469: 123, 470: 124, 471: 125, 472: 126, 473: 127, 474: 128, 475: 129, 489: 130, 490: 131, 491: 132, 492: 133, 493: 134, 494: 135, 495: 136, 496: 137, 497: 138, 498: 139, 499: 140, 500: 141, 501: 142, 502: 143, 503: 144, 504: 145, 505: 146, 506: 147, 507: 148, 520: 149, 521: 150, 522: 151, 523: 152, 524: 153, 525: 154, 526: 155, 527: 156, 528: 157, 529: 158, 530: 159, 531: 160, 532: 161, 533: 162, 534: 163, 535: 164, 536: 165, 537: 166, 538: 167, 551: 168, 552: 169, 553: 170, 554: 171, 555: 172, 556: 173, 557: 174, 558: 175, 559: 176, 560: 177, 561: 178, 562: 179, 563: 180, 564: 181, 565: 182, 566: 183, 567: 184, 568: 185, 569: 186, 570: 187, 582: 188, 583: 189, 584: 190, 585: 191, 586: 192, 587: 193, 588: 194, 589: 195, 590: 196, 591: 197, 592: 198, 593: 199, 594: 200, 595: 201, 596: 202, 597: 203, 598: 204, 599: 205, 600: 206, 601: 207, 602: 208, 614: 209, 615: 210,\n",
            "[... id to index output truncated]\n",
            "<type 'dict'> len=394 index to id:\n",
            " {0: 183, 1: 184, 2: 185, 3: 186, 4: 212, 5: 213, 6: 214, 7: 215, 8: 216, 9: 217, 10: 218, 11: 242, 12: 243, 13: 244, 14: 245, 15: 246, 16: 247, 17: 248, 18: 249, 19: 250, 20: 272, 21: 273, 22: 274, 23: 275, 24: 276, 25: 277, 26: 278, 27: 279, 28: 280, 29: 281, 30: 282, 31: 302, 32: 303, 33: 304, 34: 305, 35: 306, 36: 307, 37: 308, 38: 309, 39: 310, 40: 311, 41: 312, 42: 313, 43: 314, 44: 315, 45: 333, 46: 334, 47: 335, 48: 336, 49: 337, 50: 338, 51: 339, 52: 340, 53: 341, 54: 342, 55: 343, 56: 344, 57: 345, 58: 346, 59: 347, 60: 364, 61: 365, 62: 366, 63: 367, 64: 368, 65: 369, 66: 370, 67: 371, 68: 372, 69: 373, 70: 374, 71: 375, 72: 376, 73: 377, 74: 378, 75: 379, 76: 395, 77: 396, 78: 397, 79: 398, 80: 399, 81: 400, 82: 401, 83: 402, 84: 403, 85: 404, 86: 405, 87: 406, 88: 407, 89: 408, 90: 409, 91: 410, 92: 411, 93: 426, 94: 427, 95: 428, 96: 429, 97: 430, 98: 431, 99: 432, 100: 433, 101: 434, 102: 435, 103: 436, 104: 437, 105: 438, 106: 439, 107: 440, 108: 441, 109: 442, 110: 443, 111: 457, 112: 458, 113: 459, 114: 460, 115: 461, 116: 462, 117: 463, 118: 464, 119: 465, 120: 466, 121: 467, 122: 468, 123: 469, 124: 470, 125: 471, 126: 472, 127: 473, 128: 474, 129: 475, 130: 489, 131: 490, 132: 491, 133: 492, 134: 493, 135: 494, 136: 495, 137: 496, 138: 497, 139: 498, 140: 499, 141: 500, 142: 501, 143: 502, 144: 503, 145: 504, 146: 505, 147: 506, 148: 507, 149: 520, 150: 521, 151: 522, 152: 523, 153: 524, 154: 525, 155: 526, 156: 527, 157: 528, 158: 529, 159: 530, 160: 531, 161: 532, 162: 533, 163: 534, 164: 535, 165: 536, 166: 537, 167: 538, 168: 551, 169: 552, 170: 553, 171: 554, 172: 555, 173: 556, 174: 557, 175: 558, 176: 559, 177: 560, 178: 561, 179: 562, 180: 563, 181: 564, 182: 565, 183: 566, 184: 567, 185: 568, 186: 569, 187: 570, 188: 582, 189: 583, 190: 584, 191: 585, 192: 586, 193: 587, 194: 588, 195: 589, 196: 590, 197: 591, 198: 592, 199: 593, 200: 594, 201: 595, 202: 596, 203: 597, 204: 598, 205: 599, 206: 600, 207: 601, 208: 602, 209: 614, 210: 615,\n",
            "[... index to id output truncated]\n",
            "There are 394 final buckets.\n",
            "There are 394 final colors.\n"
          ],
          "name": "stdout"
        },
        {
          "output_type": "display_data",
          "data": {
            "image/png": "[encoded data removed]",
            "text/plain": [
              "<matplotlib.figure.Figure at 0x7f931841ccd0>"
            ]
          },
          "metadata": {
            "tags": []
          }
        },
        {
          "output_type": "stream",
          "text": [
            "We have in the map 394 buckets.\n",
            "Buckets loaded successfully!\n"
          ],
          "name": "stdout"
        }
      ]
    },
    {
      "metadata": {
        "id": "aB6kBi_KBATc",
        "colab_type": "text"
      },
      "source": [
        "## Bucketing for images\n",
        "The following two functions are for turning an *Lab* image(s) into an array of bucket labels, and the converse."
      ],
      "cell_type": "markdown"
    },
    {
      "metadata": {
        "id": "_-1k44vKGtu3",
        "colab_type": "code",
        "colab": {
          "autoexec": {
            "startup": false,
            "wait_interval": 0
          }
        }
      },
      "source": [
        "def discretize(images_ab):\n",
        "  \"\"\" This is a preprocessing step, that will be used in converting \n",
        "      Y (ab image true labels) into buckets, so that we can calculate\n",
        "      a loss in colorization_loss().\n",
        "  \n",
        "      |images_ab|: (m, H, W, 2) array representing ab channels of images.\n",
        "  \n",
        "      :return: (m, H, W, 1) array where each entry is in BUCKET_ID_TO_INDEX.\n",
        "               One of the NUM_VALID_BUCKETS color buckets we found.\n",
        "  \"\"\"\n",
        "  if len(images_ab.shape) == 3:\n",
        "    print(\"discretize(): detected only 3 dims, reshaping to (m=1,:,:,:)\")\n",
        "    images_ab = images_ab[np.newaxis,:,:,:]\n",
        "    \n",
        "  assert BUCKET_ID_TO_INDEX is not None\n",
        "  \n",
        "  m, H, W, _ = images_ab.shape\n",
        "  images_d = np.zeros((m, H, W))\n",
        "\n",
        "  for i in xrange(m):\n",
        "    for h in xrange(H):\n",
        "      for w in xrange(W):\n",
        "        ab_pixel = images_ab[i,h,w]\n",
        "        bucket_id = get_bucket_id(ab_pixel)\n",
        "        #print(\"We got bucket id %d\" % bucket_id)\n",
        "        #debug(BUCKET_ID_TO_INDEX, \"id to index\", plimit=2000)\n",
        "        #assert bucket_id in BUCKET_ID_TO_INDEX\n",
        "        images_d[i,h,w] = BUCKET_ID_TO_INDEX[bucket_id]\n",
        "  \n",
        "  return images_d"
      ],
      "cell_type": "code",
      "execution_count": 0,
      "outputs": []
    },
    {
      "metadata": {
        "id": "0O0TQLjvpKpj",
        "colab_type": "code",
        "colab": {
          "autoexec": {
            "startup": false,
            "wait_interval": 0
          }
        }
      },
      "source": [
        "# This function will be called when we want to demo a predicted image.\n",
        "# It takes an image with pixels labeled with buckets, and transforms it\n",
        "#   into 2 color channels.\n",
        "\n",
        "def inverse_discretize(images_d):\n",
        "  \"\"\" The inverse of the above function. Maps the indicated bucket to\n",
        "      the mean of that bucket.\n",
        "      \n",
        "      |images_d|: an array (m,H,W) with the color bucket assigned to each\n",
        "                  pixel.\n",
        "                  \n",
        "      :return: (m, H, W, 2) array with ab color values.\n",
        "  \"\"\"\n",
        "  if len(images_d.shape) == 2:\n",
        "    print(\"inverse_discretize(): detected only 2 dims, reshaping to (m=1,:,:)\")\n",
        "    images_d = images_d[np.newaxis,:,:]\n",
        "\n",
        "  m, H, W = images_d.shape\n",
        "  images_ab = np.zeros((m, H, W, 2))\n",
        "  \n",
        "  for i in xrange(m):\n",
        "    for h in xrange(H):\n",
        "      for w in xrange(W):\n",
        "        bucket = images_d[i,h,w]\n",
        "        images_ab[i,h,w] = bucket2ab_map[bucket] # Sets to [a,b]\n",
        "  \n",
        "  return images_ab\n",
        "  "
      ],
      "cell_type": "code",
      "execution_count": 0,
      "outputs": []
    },
    {
      "metadata": {
        "id": "NASk5-4fv6wy",
        "colab_type": "text"
      },
      "source": [
        "## Getting the data\n",
        "This function loads the data, for training and for test.\n",
        "\n",
        "```preprocess_data()``` then processes them for input into our CNN. This involves converting to *Lab* and separating the channels, running through InceptionResnet, and normalizing the *L* channel input."
      ],
      "cell_type": "markdown"
    },
    {
      "metadata": {
        "id": "gjrKq1-pCWC2",
        "colab_type": "code",
        "colab": {
          "autoexec": {
            "startup": false,
            "wait_interval": 0
          }
        }
      },
      "source": [
        "# Examples of use:\n",
        "# load_data(train_dir)\n",
        "# load_data(test_dir)\n",
        "\n",
        "def load_data(directory):\n",
        "    \"\"\" Load an entire set of |m| examples. If loading entire dataset takes\n",
        "      too much memory, may have to run in batches: \n",
        "      train, save chkpt.\n",
        "      Put new examples in the directory.\n",
        "      Repeat. \n",
        "    \"\"\"\n",
        "    images = []\n",
        "    for filename in os.listdir(directory):\n",
        "      image = load_img(directory + filename)  # PIL image\n",
        "      images.append(img_to_array(image))      # np.array\n",
        "\n",
        "    images = np.array(images, dtype=float)\n",
        "    return images\n",
        "  "
      ],
      "cell_type": "code",
      "execution_count": 0,
      "outputs": []
    },
    {
      "metadata": {
        "id": "50TChswogMXZ",
        "colab_type": "code",
        "colab": {
          "autoexec": {
            "startup": false,
            "wait_interval": 0
          },
          "output_extras": [
            {
              "item_id": 2
            }
          ],
          "base_uri": "https://localhost:8080/",
          "height": 51
        },
        "outputId": "a036235a-76fe-4ced-886a-c5594e0ede2f",
        "executionInfo": {
          "status": "ok",
          "timestamp": 1511091496035,
          "user_tz": 480,
          "elapsed": 16433,
          "user": {
            "displayName": "Owen Wang",
            "photoUrl": "//lh4.googleusercontent.com/--IeYa_Fhc0s/AAAAAAAAAAI/AAAAAAAABHo/lk0tUPNi5hY/s50-c-k-no/photo.jpg",
            "userId": "113047125933593071636"
          }
        }
      },
      "source": [
        "# Get the weights for inception resnet if we don't have them\n",
        "# ----------------------------------------------------------\n",
        "weights_path = model_metadata_dir + \"inception_resnet_v2_weights.h5\"\n",
        "weights_id = \"1L9cHTdvBocGHi-SJmgR_27ak6OPudJDc\"\n",
        "if not os.path.isfile(weights_path):\n",
        "  print (\"Didn't find the inception resnet weights. Downloading them.\")\n",
        "  download_file_from_google_drive(weights_id, weights_path)\n",
        "\n",
        "# initialize inception resnet, for use in |preprocess_data()|\n",
        "# -----------------------------------------------------------\n",
        "try:\n",
        "    assert type(inception) == keras.engine.training.Model\n",
        "except (NameError, AssertionError):  \n",
        "    inception = load_inception_net(weights_path)\n",
        "\n",
        "print (\"Loaded Inception Resnet model for generating image embeddings.\")\n"
      ],
      "cell_type": "code",
      "execution_count": 21,
      "outputs": [
        {
          "output_type": "stream",
          "text": [
            "Didn't find the inception resnet weights. Downloading them.\n",
            "Loaded Inception Resnet model for generating image embeddings.\n"
          ],
          "name": "stdout"
        }
      ]
    },
    {
      "metadata": {
        "id": "5tkvaMvcfSDl",
        "colab_type": "code",
        "colab": {
          "autoexec": {
            "startup": false,
            "wait_interval": 0
          }
        }
      },
      "source": [
        "def analyze_images(images):\n",
        "  # 4d images\n",
        "  L = images[:,:,:,0]\n",
        "  A = images[:,:,:,1]\n",
        "  B = images[:,:,:,2]\n",
        "  print(\"stats on channel1: min %s, max %s\" % (np.amin(L), np.amax(L)))\n",
        "  print(\"stats on channel2: min %s, max %s\" % (np.amin(A), np.amax(A)))\n",
        "  print(\"stats on channel3: min %s, max %s\" % (np.amin(B), np.amax(B)))"
      ],
      "cell_type": "code",
      "execution_count": 0,
      "outputs": []
    },
    {
      "metadata": {
        "id": "0AulesrE1bod",
        "colab_type": "code",
        "colab": {
          "autoexec": {
            "startup": false,
            "wait_interval": 0
          }
        }
      },
      "source": [
        "def homemade_to_categorical(y):\n",
        "    #shape (m, 224, 224)\n",
        "    m, H, W = y.shape\n",
        "    categorical = np.zeros((m, H, W, NUM_VALID_BUCKETS))\n",
        "    for i in xrange(m):\n",
        "      for h in xrange(H):\n",
        "        for w in xrange(W):\n",
        "          index = int(y[i,h,w])\n",
        "          categorical[i,h,w,index] = 1.\n",
        "    return categorical"
      ],
      "cell_type": "code",
      "execution_count": 0,
      "outputs": []
    },
    {
      "metadata": {
        "id": "fjFTS5AOQPYW",
        "colab_type": "code",
        "colab": {
          "autoexec": {
            "startup": false,
            "wait_interval": 0
          }
        }
      },
      "source": [
        "def preprocess_data(images):\n",
        "    \"\"\" Preprocess the data for input into our rainbownet model.\n",
        "    \"\"\"\n",
        "    \n",
        "    print(\"preprocess_data(): obtained %d images.\" % len(images))\n",
        "\n",
        "    analyze_images(images)\n",
        "    # Resize them to (224,224)\n",
        "    print(\"preprocess_data(): Resizing\")\n",
        "    images_resized = resize_images(images, (224, 224, 3))\n",
        "    \n",
        "    # Get the inception embeddings from grayscaled images. \n",
        "    #   This will be part of our passed in input.\n",
        "    print(\"preprocess_data(): Creating inception embeddings\")\n",
        "    grayscaled_images = gray2rgb(rgb2gray(images_resized))\n",
        "    embs = create_inception_embedding(grayscaled_images) # a numpy array\n",
        "\n",
        "    # Normalize the resized images (which are in RGB) to [0,1] to prepare for rgb2lab.\n",
        "    images_normed = images_resized - np.amin(images_resized, axis=(1,2), keepdims=True)\n",
        "    images_normed = images_normed / np.amax(images_normed, axis=(1,2), keepdims=True)\n",
        "    analyze_images(images_normed)\n",
        "    \n",
        "    # Transform to lab. Separate the l- and ab- channels\n",
        "    print(\"preprocess_data(): Separating L and ab channels\")\n",
        "    images_lab = rgb2lab(images_normed)\n",
        "    analyze_images(images_lab)\n",
        "    images_l = images_lab[:,:,:,0,np.newaxis]     # shape (m, H, W, n_frames=1 for now)\n",
        "    images_ab = images_lab[:,:,:,1:]              # shape (m, H, W, 2) \n",
        "    \n",
        "    # Normalize L channel to be between 0, 1.\n",
        "    print(\"preprocess_data(): Normalizing L channel to [0,1]\")\n",
        "    bottom = np.amin(images_l, axis=(1,2), keepdims=True)\n",
        "    images_l -= bottom\n",
        "    top = np.amax(images_l, axis=(1,2), keepdims=True)\n",
        "    images_l /= top\n",
        "\n",
        "    # Create X, composed of L channel + the embedding\n",
        "    # Create Y, including discretizing the ab image\n",
        "    X = [images_l, embs]         # tuple: (m, H, W), (m, 1000)\n",
        "    print(\"preprocess_data(): discretizing Y\")\n",
        "    Y = discretize(images_ab)       # shape (m, H, W)\n",
        "    \n",
        "    print(\"preprocess_data(): changing Y to one-hot categorical vectors\")\n",
        "    Y = homemade_to_categorical(Y)\n",
        "    \n",
        "    print(\"preprocess_data(): done. returning X, Y\")\n",
        "    return X, Y"
      ],
      "cell_type": "code",
      "execution_count": 0,
      "outputs": []
    },
    {
      "metadata": {
        "id": "sK7ROlEzwCaz",
        "colab_type": "text"
      },
      "source": [
        "## Defining our loss\n",
        "Our colorization loss is the softmax cross-entropy between the multinomial color distributions of every pixel in ```y_true``` and ```y_pred``` over all pixels (H,W), over all images in the minibatch. Inspired by the colorization paper, to solve issues other losses like MSE face.\n",
        "\n",
        "TODO: implement color weighting, like in Richard Zhang et al.\n",
        "\n"
      ],
      "cell_type": "markdown"
    },
    {
      "metadata": {
        "id": "kagX1JnwGF2o",
        "colab_type": "code",
        "colab": {
          "autoexec": {
            "startup": false,
            "wait_interval": 0
          }
        }
      },
      "source": [
        "def colorization_loss(y_true, y_pred):\n",
        "  \"\"\" |y_true|: Our true colors. An array (batch_size, H, W) with entries \n",
        "                specifying one of the buckets that pixel's color is in.\n",
        "      |y_pred|: A (batch_size, H, W, NUM_VALID_BUCKETS) volume with last dimension a\n",
        "                softmax over bucket probabilities.\n",
        "  \n",
        "      This loss involves computing the softmax cross-entropy over pixel's\n",
        "        predicted color bucket, over all images in the batch.\n",
        "  \"\"\"\n",
        "  # softmax cse with logits for each pixel\n",
        "  \n",
        "  # https://www.tensorflow.org/api_docs/python/tf/contrib/layers/flatten\n",
        "  # It conveniently ignores the batch axis 0.\n",
        "  #print y_true.get_shape()\n",
        "  #y_true = np.array(y_true)\n",
        "  #debug(y_true, \"y_true before flattening\")\n",
        "  #y_true_flat = y_true.flatten()\n",
        "  #debug(y_true_flat, \"y_true flat\")\n",
        "  y_true_flat = tf.contrib.layers.flatten(y_true)\n",
        "  #y = np.array(y_true_flat)\n",
        "  #y_pred = np.array(y_pred)\n",
        "  #debug(y_pred, \"y_pred before flattening\")\n",
        "  #y_pred_flat = y_pred.flatten()\n",
        "  #debug(y_pred_flat, \"y pred flat\")\n",
        "\n",
        "  #print(y_true_flat.get_shape())\n",
        "  \n",
        "  # Turns into one-hot representation\n",
        "  #y_true_cat = to_categorical(y_true_flat, num_classes=NUM_VALID_BUCKETS)\n",
        "  #flatten one more time\n",
        "  #y_true_flat_final = tf.contrib.layers.flatten(y_true_cat)\n",
        "  y_pred_flat = tf.contrib.layers.flatten(y_pred)\n",
        "  \n",
        "  return categorical_crossentropy(y_true_flat, y_pred_flat)"
      ],
      "cell_type": "code",
      "execution_count": 0,
      "outputs": []
    },
    {
      "metadata": {
        "id": "BO3Vi_Mey7R-",
        "colab_type": "text"
      },
      "source": [
        "## Defining our model\n"
      ],
      "cell_type": "markdown"
    },
    {
      "metadata": {
        "id": "GwG4zlyDBXE0",
        "colab_type": "code",
        "colab": {
          "autoexec": {
            "startup": false,
            "wait_interval": 0
          }
        }
      },
      "source": [
        "def RainbowNetModel():\n",
        "  # THE MEAT OF THE CODE\n",
        "  # Based off of the colorization paper's architecture. Keep in mind they trained\n",
        "  #   on ImageNet though.\n",
        "  \n",
        "  # Input will have to be modified for doing image seqs. \n",
        "  #   In particular the volume is probably not 1 channel, but n_frames channels.\n",
        "  embedding_input = Input(shape=(1000,))\n",
        "  encoder_input = Input(shape=(224, 224, 1,))\n",
        "\n",
        "  # NOTE: The number of times we do \"strides=2\" is the \n",
        "  #   same as the number of times we do Upsampling2D. \n",
        "\n",
        "  # TODO: look into BN parameters, maybe we can configure them more specifically\n",
        "  \n",
        "  # Encoder\n",
        "  # -------\n",
        "  encoder_output = Conv2D(64, (3,3), activation='relu', padding='same')(encoder_input)\n",
        "  encoder_output = Conv2D(64, (3,3), activation='relu', padding='same', strides=2)(encoder_input) #112\n",
        "  encoder_output = BatchNormalization()(encoder_output)\n",
        "  \n",
        "  encoder_output = Conv2D(128, (3,3), activation='relu', padding='same')(encoder_output)\n",
        "  encoder_output = Conv2D(128, (3,3), activation='relu', padding='same', strides=2)(encoder_output) #56\n",
        "  encoder_output = BatchNormalization()(encoder_output)\n",
        "  \n",
        "  encoder_output = Conv2D(256, (3,3), activation='relu', padding='same')(encoder_output)\n",
        "  encoder_output = Conv2D(256, (3,3), activation='relu', padding='same', strides=2)(encoder_output) #28\n",
        "  encoder_output = BatchNormalization()(encoder_output)\n",
        "  \n",
        "  # May have to reduce layers if we don't have enough training data, to avoid overfitting.\n",
        "  encoder_output = Conv2D(512, (3,3), activation='relu', padding='same')(encoder_output)\n",
        "  encoder_output = Conv2D(512, (3,3), activation='relu', padding='same')(encoder_output)\n",
        "  encoder_output = BatchNormalization()(encoder_output)\n",
        "\n",
        "\n",
        "  # Fusion\n",
        "  # ------\n",
        "  fusion_output = RepeatVector(28 * 28)(embedding_input) \n",
        "  fusion_output = Reshape(([28, 28, 1000]))(fusion_output)\n",
        "  fusion_output = concatenate([encoder_output, fusion_output], axis=3)  # Stack along thickness dimension\n",
        "  \n",
        "  # A volume that solidifies the fusion from the inception-resnet vectors + our previous volume:\n",
        "  fusion_output = Conv2D(512, (1, 1), activation='relu', padding='same')(fusion_output) \n",
        "\n",
        "\n",
        "  #Decoder\n",
        "  # May have to reduce layers if we don't have enough training data, to avoid overfitting.\n",
        "  decoder_output = Conv2D(256, (3,3), activation='relu', padding='same')(fusion_output) # 28\n",
        "  decoder_output = Conv2D(256, (3,3), activation='relu', padding='same')(decoder_output)\n",
        "  decoder_output = BatchNormalization()(decoder_output)\n",
        "  decoder_output = UpSampling2D((2, 2))(decoder_output) # 56\n",
        "  \n",
        "  decoder_output = Conv2D(128, (3,3), activation='relu', padding='same')(decoder_output)\n",
        "  decoder_output = Conv2D(128, (3,3), activation='relu', padding='same')(decoder_output)\n",
        "  decoder_output = BatchNormalization()(decoder_output)\n",
        "  decoder_output = UpSampling2D((2, 2))(decoder_output) # 112\n",
        "  \n",
        "  decoder_output = Conv2D(64, (3,3), activation='relu', padding='same')(decoder_output)\n",
        "  decoder_output = Conv2D(64, (3,3), activation='relu', padding='same')(decoder_output)\n",
        "  decoder_output = BatchNormalization()(decoder_output)\n",
        "  decoder_output = UpSampling2D((2, 2))(decoder_output) # 224\n",
        "  \n",
        "  decoder_output = Conv2D(128, (3,3), activation='relu', padding='same')(decoder_output)\n",
        "  decoder_output = Conv2D(256, (3,3), activation='relu', padding='same')(decoder_output)\n",
        "  \n",
        "  def softmax_for_rainbownet(x):\n",
        "    return softmax(x, axis=2)\n",
        "\n",
        "  softmax_output = Conv2D(NUM_VALID_BUCKETS, (3,3), activation=softmax_for_rainbownet, padding='same')(decoder_output)\n",
        "  \n",
        "  model = Model(inputs=[encoder_input, embedding_input], outputs=softmax_output)\n",
        "  return model"
      ],
      "cell_type": "code",
      "execution_count": 0,
      "outputs": []
    },
    {
      "metadata": {
        "id": "D9faritUCfc3",
        "colab_type": "code",
        "colab": {
          "autoexec": {
            "startup": false,
            "wait_interval": 0
          }
        }
      },
      "source": [
        "def save_model(model, model_save_path):\n",
        "  model_json = model.to_json()\n",
        "  with open(model_save_path + model_name + \".json\", \"w\") as json_file:\n",
        "    json_file.write(model_json)\n",
        "  model.save_weights(model_save_path + model_name + \".h5\")"
      ],
      "cell_type": "code",
      "execution_count": 0,
      "outputs": []
    },
    {
      "metadata": {
        "id": "AUNILyqwO1LF",
        "colab_type": "code",
        "colab": {
          "autoexec": {
            "startup": false,
            "wait_interval": 0
          }
        }
      },
      "source": [
        "def load_existing_model():\n",
        "  weights_path = model_chkpt + model_name + \".h5\"\n",
        "\n",
        "  if not os.path.isfile(weights_path):\n",
        "    print(\"The model at path %s was not found.\" % weights_path)\n",
        "    quit()\n",
        "    \n",
        "  model = RainbowNetModel()\n",
        "  rainbowModel.load_weights(weights_path)\n",
        "  return model"
      ],
      "cell_type": "code",
      "execution_count": 0,
      "outputs": []
    },
    {
      "metadata": {
        "id": "VF6DV0hSBATu",
        "colab_type": "text"
      },
      "source": [
        "## Baseline for comparison"
      ],
      "cell_type": "markdown"
    },
    {
      "metadata": {
        "id": "a8CJR0QCxsFO",
        "colab_type": "code",
        "colab": {
          "autoexec": {
            "startup": false,
            "wait_interval": 0
          }
        }
      },
      "source": [
        "def preprocess_baseline_data(images):\n",
        "    images_resized = resize_images(images, (224, 224, 3))\n",
        "    X = rgb2lab(1.0 / 255 * images_resized)[:,:,:,0]\n",
        "    Y = rgb2lab(1.0 / 255 * images_resized)[:,:,:,1:] / 128.\n",
        "    \n",
        "    X = X.reshape((len(X), np.prod(X.shape[1:])))\n",
        "    Y = Y.reshape((len(Y), np.prod(Y.shape[1:])))\n",
        "    return X, Y"
      ],
      "cell_type": "code",
      "execution_count": 0,
      "outputs": []
    },
    {
      "metadata": {
        "id": "K0ns3wIxBATv",
        "colab_type": "code",
        "colab": {
          "autoexec": {
            "startup": false,
            "wait_interval": 0
          }
        }
      },
      "source": [
        "def BaselineModel():\n",
        "    inputs = Input(shape=(224 * 224,))\n",
        "    encoded = Dense(224, activation='relu')(inputs)\n",
        "    decoded = Dense(224 * 224 * 2, activation='tanh')(encoded)\n",
        "    return Model(inputs, decoded)"
      ],
      "cell_type": "code",
      "execution_count": 0,
      "outputs": []
    },
    {
      "metadata": {
        "id": "dpRaeYbKBATw",
        "colab_type": "code",
        "colab": {
          "autoexec": {
            "startup": false,
            "wait_interval": 0
          },
          "output_extras": [
            {
              "item_id": 12
            }
          ],
          "base_uri": "https://localhost:8080/",
          "height": 408
        },
        "outputId": "9a672e11-6ec3-46c3-b095-75d17a4816cd",
        "executionInfo": {
          "status": "ok",
          "timestamp": 1511080155392,
          "user_tz": 480,
          "elapsed": 6064,
          "user": {
            "displayName": "Emily Ling",
            "photoUrl": "https://lh3.googleusercontent.com/a/default-user=s128",
            "userId": "109427998056109505598"
          }
        }
      },
      "source": [
        "# Load the training data\n",
        "images_train = load_data(test_dir) # CHANGE TO train_dir LATER\n",
        "X_train, Y_train = preprocess_baseline_data(images_train)\n",
        "print(\"Loaded X_train \" + str(X_train.shape))\n",
        "print(\"Loaded Y_train \" + str(Y_train.shape))\n",
        "\n",
        "# Load the test data\n",
        "images_test = load_data(test_dir)\n",
        "X_test, Y_test = preprocess_baseline_data(images_test)\n",
        "print(\"Loaded X_test \" + str(X_test.shape))\n",
        "print(\"Loaded Y_test \" + str(Y_test.shape))\n",
        "\n",
        "# Initialize our baseline model, and train it\n",
        "baselineModel = BaselineModel()\n",
        "baselineModel.compile(optimizer='sgd', loss='mean_squared_error')\n",
        "baselineModel.fit(x=X_train, y=Y_train, batch_size=2, epochs=5)\n",
        "\n",
        "print('===')\n",
        "\n",
        "# Evaluate on the test set, and print our loss.\n",
        "print baselineModel.evaluate(X_test, Y_test, batch_size=1)\n",
        "test_output = baselineModel.predict(X_test)\n",
        "\n",
        "debug(test_output[0], \"test_output\")   # The (224*224*2)-vector that the baseline predicted from X_test[0]\n",
        "debug(Y_test[0], \"Y_test\")        # The ground truth, Y_test[0], corresponding to it.\n",
        "\n",
        "# Save the results of prediction (in test_output) into the results_dir.\n",
        "num_test_examples = len(X_test)\n",
        "for i in range(num_test_examples):\n",
        "    # The empty array holding our formatted-into-a-picture result\n",
        "    cur = np.zeros((224, 224, 3))\n",
        "    cur[:,:,0] = X_test[i].reshape((224, 224))                        # Set the L channel\n",
        "    cur[:,:,1:] = test_output[i].reshape((224, 224, 2)) * 128         # Set the ab channels as our prediction\n",
        "    imsave(results_dir + \"img_\" + str(i) + \".png\", lab2rgb(cur))      # Save it.\n",
        "    cur[:,:,1:] = Y_test[i].reshape((224, 224, 2)) * 128              # Set the ab channels as ground truth\n",
        "    imsave(results_dir + \"img_\" + str(i) + \"_og.png\", lab2rgb(cur))   # Save it too."
      ],
      "cell_type": "code",
      "execution_count": 45,
      "outputs": [
        {
          "output_type": "stream",
          "text": [
            "Loaded X_train (1, 50176)\n",
            "Loaded Y_train (1, 100352)\n",
            "Loaded X_test (1, 50176)\n",
            "Loaded Y_test (1, 100352)\n",
            "Epoch 1/5\n",
            "1/1 [==============================] - 2s 2s/step - loss: 0.8174\n",
            "Epoch 2/5\n",
            "1/1 [==============================] - 0s 310ms/step - loss: 0.7004\n",
            "Epoch 3/5\n",
            "1/1 [==============================] - 0s 308ms/step - loss: 0.0110\n",
            "Epoch 4/5\n",
            "1/1 [==============================] - 0s 305ms/step - loss: 0.0067\n",
            "Epoch 5/5\n",
            "1/1 [==============================] - 0s 305ms/step - loss: 0.0067\n",
            "===\n",
            "1/1 [==============================] - 1s 746ms/step\n",
            "0.00673243077472\n",
            "<type 'numpy.ndarray'> (100352,) test_output:\n",
            " [ -7.11693957e-08  -5.41121317e-08   5.60244828e-09 ...,   5.44481686e-08\n",
            "   2.31140209e-08   4.93376966e-08]\n",
            "<type 'numpy.ndarray'> (100352,) Y_test:\n",
            " [-0.00925965  0.05505241 -0.00926293 ...,  0.08224313  0.03854639\n",
            "  0.08200618]\n"
          ],
          "name": "stdout"
        }
      ]
    },
    {
      "metadata": {
        "id": "zAj-vtheGDOx",
        "colab_type": "code",
        "colab": {
          "autoexec": {
            "startup": false,
            "wait_interval": 0
          },
          "output_extras": [
            {
              "item_id": 1
            },
            {
              "item_id": 2
            },
            {
              "item_id": 3
            },
            {
              "item_id": 4
            }
          ],
          "base_uri": "https://localhost:8080/",
          "height": 499
        },
        "outputId": "d9d233d6-d443-4f11-8e36-7ea2fdd85550",
        "executionInfo": {
          "status": "ok",
          "timestamp": 1511079830300,
          "user_tz": 480,
          "elapsed": 467,
          "user": {
            "displayName": "Emily Ling",
            "photoUrl": "https://lh3.googleusercontent.com/a/default-user=s128",
            "userId": "109427998056109505598"
          }
        }
      },
      "source": [
        "from IPython.display import Image \n",
        "\n",
        "# Display what we have in results_dir.\n",
        "for filename in os.listdir(results_dir):\n",
        "  print filename\n",
        "  display(Image(results_dir + filename))"
      ],
      "cell_type": "code",
      "execution_count": 44,
      "outputs": [
        {
          "output_type": "stream",
          "text": [
            "img_0_og.png\n"
          ],
          "name": "stdout"
        },
        {
          "output_type": "display_data",
          "data": {
            "image/png": "[encoded data removed]",
            "text/plain": [
              "<IPython.core.display.Image object>"
            ]
          },
          "metadata": {
            "tags": []
          }
        },
        {
          "output_type": "stream",
          "text": [
            "img_0.png\n"
          ],
          "name": "stdout"
        },
        {
          "output_type": "display_data",
          "data": {
            "image/png": "[encoded data removed]",
            "text/plain": [
              "<IPython.core.display.Image object>"
            ]
          },
          "metadata": {
            "tags": []
          }
        }
      ]
    },
    {
      "metadata": {
        "id": "8iMohPPAmMqL",
        "colab_type": "text"
      },
      "source": [
        "## Time to train our RainbowNet model!\n",
        "Now we can run our model. It will save its parameters after every training session.\n",
        "\n",
        "If you're looking to only predict, run the cell after this."
      ],
      "cell_type": "markdown"
    },
    {
      "metadata": {
        "id": "YI5ElZQseuYX",
        "colab_type": "code",
        "colab": {
          "autoexec": {
            "startup": false,
            "wait_interval": 0
          }
        }
      },
      "source": [
        "#print(train_dir)\n",
        "#! ls ../data/train\n",
        "X_train = None\n",
        "Y_train = None\n",
        "X_test = None\n",
        "Y_test = None"
      ],
      "cell_type": "code",
      "execution_count": 0,
      "outputs": []
    },
    {
      "metadata": {
        "id": "bdo65n6QSjWW",
        "colab_type": "code",
        "colab": {
          "autoexec": {
            "startup": false,
            "wait_interval": 0
          },
          "output_extras": [
            {
              "item_id": 5
            }
          ],
          "base_uri": "https://localhost:8080/",
          "height": 289
        },
        "outputId": "fbbc20d2-266f-4e4d-d911-605db6688f03"
      },
      "source": [
        "images_train = load_data(train_dir)\n",
        "X_train, Y_train = preprocess_data(images_train)\n",
        "print (\"Loaded training data.\\n==========\")\n",
        "\n",
        "images_test = load_data(test_dir)\n",
        "X_test, Y_test = preprocess_data(images_test)\n",
        "# We are going to test on train for now to sanity check.\n",
        "#X_test, Y_test = X_train, Y_train\n",
        "print (\"Loaded test data.\\n==========\")"
      ],
      "cell_type": "code",
      "execution_count": 0,
      "outputs": [
        {
          "output_type": "stream",
          "text": [
            "preprocess_data(): obtained 44 images.\n",
            "stats on channel1: min 0.0, max 255.0\n",
            "stats on channel2: min 6.0, max 253.0\n",
            "stats on channel3: min 0.0, max 244.0\n",
            "preprocess_data(): Resizing\n",
            "preprocess_data(): Creating inception embeddings\n",
            "embedding is of type <type 'numpy.ndarray'>\n",
            "stats on channel1: min 0.0, max 1.0\n",
            "stats on channel2: min 0.0, max 1.0\n",
            "stats on channel3: min 0.0, max 1.0\n",
            "preprocess_data(): Separating L and ab channels\n",
            "stats on channel1: min 0.0, max 100.0\n",
            "stats on channel2: min -25.9207484557, max 32.2444324502\n",
            "stats on channel3: min -11.4864902058, max 27.1133255833\n",
            "preprocess_data(): Normalizing L channel to [0,1]\n",
            "preprocess_data(): [not baseline] discretizing Y\n"
          ],
          "name": "stdout"
        }
      ]
    },
    {
      "metadata": {
        "id": "JlWI0B-DEZHo",
        "colab_type": "code",
        "colab": {
          "autoexec": {
            "startup": false,
            "wait_interval": 0
          },
          "output_extras": [
            {
              "item_id": 1
            }
          ],
          "base_uri": "https://localhost:8080/",
          "height": 766
        },
        "outputId": "abc40f95-9b80-4862-e6a2-0c365e73bbc6",
        "executionInfo": {
          "status": "error",
          "timestamp": 1511092039789,
          "user_tz": 480,
          "elapsed": 2060,
          "user": {
            "displayName": "Owen Wang",
            "photoUrl": "//lh4.googleusercontent.com/--IeYa_Fhc0s/AAAAAAAAAAI/AAAAAAAABHo/lk0tUPNi5hY/s50-c-k-no/photo.jpg",
            "userId": "113047125933593071636"
          }
        }
      },
      "source": [
        " # Run the model!\n",
        "rainbowModel = RainbowNetModel()\n",
        "\n",
        "rainbowModel.compile(optimizer='adam', \n",
        "                     loss=colorization_loss,\n",
        "                     metrics=['accuracy'])\n",
        "                     #metrics=['top_k_categorical_accuracy'])\n",
        "\n",
        "rainbowModel.fit(x=X_train, y=Y_train,\n",
        "                 epochs=10,\n",
        "                 batch_size=BATCH_SIZE)\n",
        "\n",
        "save_model(rainbowModel, model_chkpt)\n",
        "\n",
        "# Get predictions after we've trained.\n",
        "predictions = rainbowModel.evaluate(X_test, Y_test)\n"
      ],
      "cell_type": "code",
      "execution_count": 33,
      "outputs": [
        {
          "output_type": "error",
          "ename": "ValueError",
          "evalue": "ignored",
          "traceback": [
            "\u001b[0;31m\u001b[0m",
            "\u001b[0;31mValueError\u001b[0mTraceback (most recent call last)",
            "\u001b[0;32m<ipython-input-33-327a33ba8adc>\u001b[0m in \u001b[0;36m<module>\u001b[0;34m()\u001b[0m\n\u001b[1;32m      8\u001b[0m rainbowModel.fit(x=X_train, y=Y_train,\n\u001b[1;32m      9\u001b[0m                  \u001b[0mepochs\u001b[0m\u001b[0;34m=\u001b[0m\u001b[0;36m10\u001b[0m\u001b[0;34m,\u001b[0m\u001b[0;34m\u001b[0m\u001b[0m\n\u001b[0;32m---> 10\u001b[0;31m                  batch_size=BATCH_SIZE)\n\u001b[0m\u001b[1;32m     11\u001b[0m \u001b[0;34m\u001b[0m\u001b[0m\n\u001b[1;32m     12\u001b[0m \u001b[0msave_model\u001b[0m\u001b[0;34m(\u001b[0m\u001b[0mrainbowModel\u001b[0m\u001b[0;34m,\u001b[0m \u001b[0mmodel_chkpt\u001b[0m\u001b[0;34m)\u001b[0m\u001b[0;34m\u001b[0m\u001b[0m\n",
            "\u001b[0;32m/usr/local/lib/python2.7/dist-packages/keras/engine/training.pyc\u001b[0m in \u001b[0;36mfit\u001b[0;34m(self, x, y, batch_size, epochs, verbose, callbacks, validation_split, validation_data, shuffle, class_weight, sample_weight, initial_epoch, steps_per_epoch, validation_steps, **kwargs)\u001b[0m\n\u001b[1;32m   1572\u001b[0m             \u001b[0mclass_weight\u001b[0m\u001b[0;34m=\u001b[0m\u001b[0mclass_weight\u001b[0m\u001b[0;34m,\u001b[0m\u001b[0;34m\u001b[0m\u001b[0m\n\u001b[1;32m   1573\u001b[0m             \u001b[0mcheck_batch_axis\u001b[0m\u001b[0;34m=\u001b[0m\u001b[0mFalse\u001b[0m\u001b[0;34m,\u001b[0m\u001b[0;34m\u001b[0m\u001b[0m\n\u001b[0;32m-> 1574\u001b[0;31m             batch_size=batch_size)\n\u001b[0m\u001b[1;32m   1575\u001b[0m         \u001b[0;31m# Prepare validation data.\u001b[0m\u001b[0;34m\u001b[0m\u001b[0;34m\u001b[0m\u001b[0m\n\u001b[1;32m   1576\u001b[0m         \u001b[0mdo_validation\u001b[0m \u001b[0;34m=\u001b[0m \u001b[0mFalse\u001b[0m\u001b[0;34m\u001b[0m\u001b[0m\n",
            "\u001b[0;32m/usr/local/lib/python2.7/dist-packages/keras/engine/training.pyc\u001b[0m in \u001b[0;36m_standardize_user_data\u001b[0;34m(self, x, y, sample_weight, class_weight, check_batch_axis, batch_size)\u001b[0m\n\u001b[1;32m   1405\u001b[0m                                     \u001b[0mself\u001b[0m\u001b[0;34m.\u001b[0m\u001b[0m_feed_input_shapes\u001b[0m\u001b[0;34m,\u001b[0m\u001b[0;34m\u001b[0m\u001b[0m\n\u001b[1;32m   1406\u001b[0m                                     \u001b[0mcheck_batch_axis\u001b[0m\u001b[0;34m=\u001b[0m\u001b[0mFalse\u001b[0m\u001b[0;34m,\u001b[0m\u001b[0;34m\u001b[0m\u001b[0m\n\u001b[0;32m-> 1407\u001b[0;31m                                     exception_prefix='input')\n\u001b[0m\u001b[1;32m   1408\u001b[0m         y = _standardize_input_data(y, self._feed_output_names,\n\u001b[1;32m   1409\u001b[0m                                     \u001b[0moutput_shapes\u001b[0m\u001b[0;34m,\u001b[0m\u001b[0;34m\u001b[0m\u001b[0m\n",
            "\u001b[0;32m/usr/local/lib/python2.7/dist-packages/keras/engine/training.pyc\u001b[0m in \u001b[0;36m_standardize_input_data\u001b[0;34m(data, names, shapes, check_batch_axis, exception_prefix)\u001b[0m\n\u001b[1;32m    100\u001b[0m                         \u001b[0;34m' Numpy arrays instead. '\u001b[0m\u001b[0;34m\u001b[0m\u001b[0m\n\u001b[1;32m    101\u001b[0m                         \u001b[0;34m'The list you passed was: '\u001b[0m \u001b[0;34m+\u001b[0m\u001b[0;34m\u001b[0m\u001b[0m\n\u001b[0;32m--> 102\u001b[0;31m                         str(data)[:200])\n\u001b[0m\u001b[1;32m    103\u001b[0m         \u001b[0marrays\u001b[0m \u001b[0;34m=\u001b[0m \u001b[0mdata\u001b[0m\u001b[0;34m\u001b[0m\u001b[0m\n\u001b[1;32m    104\u001b[0m     \u001b[0;32melif\u001b[0m \u001b[0mdata\u001b[0m\u001b[0;34m.\u001b[0m\u001b[0m__class__\u001b[0m\u001b[0;34m.\u001b[0m\u001b[0m__name__\u001b[0m \u001b[0;34m==\u001b[0m \u001b[0;34m'DataFrame'\u001b[0m\u001b[0;34m:\u001b[0m\u001b[0;34m\u001b[0m\u001b[0m\n",
            "\u001b[0;31mValueError\u001b[0m: Error when checking model input: you are passing a list as input to your model, but the model expects a list of 2 Numpy arrays instead. The list you passed was: [(array([[[ 0.25332083],\n        [ 0.29716039],\n        [ 0.31066237],\n        ..., \n        [ 0.054501  ],\n        [ 0.054501  ],\n        [ 0.054501  ]],\n\n       [[ 0.25427552],\n        [ 0.27257458]"
          ]
        }
      ]
    },
    {
      "metadata": {
        "id": "jqxkxxlCFqtr",
        "colab_type": "code",
        "colab": {
          "autoexec": {
            "startup": false,
            "wait_interval": 0
          }
        }
      },
      "source": [
        "\n",
        "# Displaying our predictions\n",
        "# ==========================\n",
        "\n",
        "# The predictions are (m, H, W, NUM_VALID_BUCKETS softmax dim).\n",
        "# We need to process these so they're interpretable as color images.\n",
        "m, H, W, _ = predictions.shape\n",
        "predicted_bucket_indices = np.argmax(predictions, axis=3)\n",
        "predicted_buckets = np.zeros(predicted_bucket_indices.shape)\n",
        "for i in xrange(m):\n",
        "  for h in xrange(H):\n",
        "    for w in xrange(W):\n",
        "      index = predicted_bucket_indices[m,h,w]\n",
        "      predicted_buckets[m,h,w] = BUCKET_INDEX_TO_ID(index)\n",
        "\n",
        "# Display / output the predictions.\n",
        "output_images_ab = inverse_discretize(predicted_buckets)\n",
        "output_images_lab = np.concatenate((X_test, output_images_ab), axis=3) # add the L channel back somehow? It should be part of the X\n",
        "image = output_images_lab[0]\n",
        "# save one image\n",
        "imsave(results_dir + \"rainbow_img.jpg\", lab2rgb(image))      # Save it.\n",
        "\n",
        "from IPython.display import Image \n",
        "\n",
        "# Display what we have in results_dir.\n",
        "for filename in os.listdir(results_dir):\n",
        "  print filename\n",
        "  display(Image(results_dir + filename))"
      ],
      "cell_type": "code",
      "execution_count": 0,
      "outputs": []
    },
    {
      "metadata": {
        "id": "wOcWNQ9SOZWV",
        "colab_type": "text"
      },
      "source": [
        "## Predict using the model\n",
        "If you don't want to train, but only use the saved model to predict something, run this cell."
      ],
      "cell_type": "markdown"
    },
    {
      "metadata": {
        "id": "zxW_idLSNl8F",
        "colab_type": "code",
        "colab": {
          "autoexec": {
            "startup": false,
            "wait_interval": 0
          }
        }
      },
      "source": [
        "X_test, Y_test = load_data(test_dir)\n",
        "\n",
        "rainbowModel = load_existing_model()\n",
        "\n",
        "predictions = rainbowModel.evaluate(X_test, Y_test)\n",
        "\n",
        "# Display / output the predictions.\n"
      ],
      "cell_type": "code",
      "execution_count": 0,
      "outputs": []
    }
  ]
}